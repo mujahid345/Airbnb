{
  "cells": [
    {
      "cell_type": "markdown",
      "metadata": {
        "id": "view-in-github",
        "colab_type": "text"
      },
      "source": [
        "<a href=\"https://colab.research.google.com/github/mujahid345/Airbnb/blob/main/Airbnb.ipynb\" target=\"_parent\"><img src=\"https://colab.research.google.com/assets/colab-badge.svg\" alt=\"Open In Colab\"/></a>"
      ]
    },
    {
      "cell_type": "markdown",
      "metadata": {
        "id": "5AvRVfwwQOJC"
      },
      "source": [
        "![alt text](https://shorttermrentalz.com/wp-content/uploads/2021/02/airbnb_guide.jpg)"
      ]
    },
    {
      "cell_type": "markdown",
      "metadata": {
        "id": "vfYx_6O-Qa3m"
      },
      "source": [
        "#**What does Airbnb stand for?**\n",
        "Airbnb is an abbreviation for **A**ir mattress **B**ed and **B**reakfast.\n",
        "\n",
        "\n",
        "#**What is Airbnb?**\n",
        "An online marketplace that involves the renting of property to travellers. \n",
        "\n",
        "Airbnb does not own any of the properties. It provides a platform on which people can rent out their properties or spare rooms to guests. Prices are set by the property owners and monies are collected via the Airbnb app.\n",
        "\n",
        "There are many different types of Airbnbs. You can rent a room in someone’s house or a whole island and everything in between!\n",
        "\n",
        "\n",
        "\n",
        "#**The History of Airbnb**\n",
        "Airbnb was founded in August 2008 by Joe Gebbia, Brian Chesky, and Nathan Blecharczyk, with its headquarters in San Francisco, USA.\n",
        "\n",
        "The idea came to Brian Chesky and Joe Gebbia in 2007 when they could not afford to pay the rent for their apartment. They transformed their living room into a bedroom in order to ‘share’ their home with three guests and provided them with homemade breakfast. This was the beginning of the Airbnb concept."
      ]
    },
    {
      "cell_type": "markdown",
      "metadata": {
        "id": "iuxZ9mOBVXWE"
      },
      "source": [
        "![alt text](https://i2.wp.com/www.lifeasabutterfly.com/wp-content/uploads/how-airbnb-started-infographic.png?fit=1024%2C798&ssl=1)"
      ]
    },
    {
      "cell_type": "markdown",
      "metadata": {
        "id": "zxV1C7TuYT3e"
      },
      "source": [
        "#**Lets Being our Stay**"
      ]
    },
    {
      "cell_type": "code",
      "execution_count": null,
      "metadata": {
        "id": "6i5ohyulY6VP",
        "colab": {
          "base_uri": "https://localhost:8080/"
        },
        "outputId": "1d6eca37-23fe-4f49-d9bb-d932e98b600c"
      },
      "outputs": [
        {
          "output_type": "stream",
          "name": "stdout",
          "text": [
            "Mounted at /content/drive\n"
          ]
        }
      ],
      "source": [
        "from google.colab import drive\n",
        "drive.mount('/content/drive')"
      ]
    },
    {
      "cell_type": "code",
      "execution_count": null,
      "metadata": {
        "id": "oGwLOEAaY-bH"
      },
      "outputs": [],
      "source": [
        "import pandas as pd\n",
        "import numpy as np\n",
        "import seaborn as sns\n",
        "import matplotlib.pyplot as plt\n",
        "from skimage.io import imread"
      ]
    },
    {
      "cell_type": "code",
      "execution_count": null,
      "metadata": {
        "id": "dYRAK3mBZAkb"
      },
      "outputs": [],
      "source": [
        "df = pd.read_csv(\"/content/drive/MyDrive/Cohort Rishi/Pandas/Data/Airbnb NYC 2019.csv\")"
      ]
    },
    {
      "cell_type": "code",
      "execution_count": null,
      "metadata": {
        "id": "3kQ1OnCtZJ_F",
        "colab": {
          "base_uri": "https://localhost:8080/",
          "height": 461
        },
        "outputId": "e4db0998-0da6-4fdb-f685-4af232f1fa57"
      },
      "outputs": [
        {
          "output_type": "execute_result",
          "data": {
            "text/html": [
              "\n",
              "  <div id=\"df-d23ff226-dacb-41ad-aedb-75109fa67f59\">\n",
              "    <div class=\"colab-df-container\">\n",
              "      <div>\n",
              "<style scoped>\n",
              "    .dataframe tbody tr th:only-of-type {\n",
              "        vertical-align: middle;\n",
              "    }\n",
              "\n",
              "    .dataframe tbody tr th {\n",
              "        vertical-align: top;\n",
              "    }\n",
              "\n",
              "    .dataframe thead th {\n",
              "        text-align: right;\n",
              "    }\n",
              "</style>\n",
              "<table border=\"1\" class=\"dataframe\">\n",
              "  <thead>\n",
              "    <tr style=\"text-align: right;\">\n",
              "      <th></th>\n",
              "      <th>id</th>\n",
              "      <th>name</th>\n",
              "      <th>host_id</th>\n",
              "      <th>host_name</th>\n",
              "      <th>neighbourhood_group</th>\n",
              "      <th>neighbourhood</th>\n",
              "      <th>latitude</th>\n",
              "      <th>longitude</th>\n",
              "      <th>room_type</th>\n",
              "      <th>price</th>\n",
              "      <th>minimum_nights</th>\n",
              "      <th>number_of_reviews</th>\n",
              "      <th>last_review</th>\n",
              "      <th>reviews_per_month</th>\n",
              "      <th>calculated_host_listings_count</th>\n",
              "      <th>availability_365</th>\n",
              "    </tr>\n",
              "  </thead>\n",
              "  <tbody>\n",
              "    <tr>\n",
              "      <th>0</th>\n",
              "      <td>2539</td>\n",
              "      <td>Clean &amp; quiet apt home by the park</td>\n",
              "      <td>2787</td>\n",
              "      <td>John</td>\n",
              "      <td>Brooklyn</td>\n",
              "      <td>Kensington</td>\n",
              "      <td>40.64749</td>\n",
              "      <td>-73.97237</td>\n",
              "      <td>Private room</td>\n",
              "      <td>149</td>\n",
              "      <td>1</td>\n",
              "      <td>9</td>\n",
              "      <td>2018-10-19</td>\n",
              "      <td>0.21</td>\n",
              "      <td>6</td>\n",
              "      <td>365</td>\n",
              "    </tr>\n",
              "    <tr>\n",
              "      <th>1</th>\n",
              "      <td>2595</td>\n",
              "      <td>Skylit Midtown Castle</td>\n",
              "      <td>2845</td>\n",
              "      <td>Jennifer</td>\n",
              "      <td>Manhattan</td>\n",
              "      <td>Midtown</td>\n",
              "      <td>40.75362</td>\n",
              "      <td>-73.98377</td>\n",
              "      <td>Entire home/apt</td>\n",
              "      <td>225</td>\n",
              "      <td>1</td>\n",
              "      <td>45</td>\n",
              "      <td>2019-05-21</td>\n",
              "      <td>0.38</td>\n",
              "      <td>2</td>\n",
              "      <td>355</td>\n",
              "    </tr>\n",
              "    <tr>\n",
              "      <th>2</th>\n",
              "      <td>3647</td>\n",
              "      <td>THE VILLAGE OF HARLEM....NEW YORK !</td>\n",
              "      <td>4632</td>\n",
              "      <td>Elisabeth</td>\n",
              "      <td>Manhattan</td>\n",
              "      <td>Harlem</td>\n",
              "      <td>40.80902</td>\n",
              "      <td>-73.94190</td>\n",
              "      <td>Private room</td>\n",
              "      <td>150</td>\n",
              "      <td>3</td>\n",
              "      <td>0</td>\n",
              "      <td>NaN</td>\n",
              "      <td>NaN</td>\n",
              "      <td>1</td>\n",
              "      <td>365</td>\n",
              "    </tr>\n",
              "    <tr>\n",
              "      <th>3</th>\n",
              "      <td>3831</td>\n",
              "      <td>Cozy Entire Floor of Brownstone</td>\n",
              "      <td>4869</td>\n",
              "      <td>LisaRoxanne</td>\n",
              "      <td>Brooklyn</td>\n",
              "      <td>Clinton Hill</td>\n",
              "      <td>40.68514</td>\n",
              "      <td>-73.95976</td>\n",
              "      <td>Entire home/apt</td>\n",
              "      <td>89</td>\n",
              "      <td>1</td>\n",
              "      <td>270</td>\n",
              "      <td>2019-07-05</td>\n",
              "      <td>4.64</td>\n",
              "      <td>1</td>\n",
              "      <td>194</td>\n",
              "    </tr>\n",
              "    <tr>\n",
              "      <th>4</th>\n",
              "      <td>5022</td>\n",
              "      <td>Entire Apt: Spacious Studio/Loft by central park</td>\n",
              "      <td>7192</td>\n",
              "      <td>Laura</td>\n",
              "      <td>Manhattan</td>\n",
              "      <td>East Harlem</td>\n",
              "      <td>40.79851</td>\n",
              "      <td>-73.94399</td>\n",
              "      <td>Entire home/apt</td>\n",
              "      <td>80</td>\n",
              "      <td>10</td>\n",
              "      <td>9</td>\n",
              "      <td>2018-11-19</td>\n",
              "      <td>0.10</td>\n",
              "      <td>1</td>\n",
              "      <td>0</td>\n",
              "    </tr>\n",
              "  </tbody>\n",
              "</table>\n",
              "</div>\n",
              "      <button class=\"colab-df-convert\" onclick=\"convertToInteractive('df-d23ff226-dacb-41ad-aedb-75109fa67f59')\"\n",
              "              title=\"Convert this dataframe to an interactive table.\"\n",
              "              style=\"display:none;\">\n",
              "        \n",
              "  <svg xmlns=\"http://www.w3.org/2000/svg\" height=\"24px\"viewBox=\"0 0 24 24\"\n",
              "       width=\"24px\">\n",
              "    <path d=\"M0 0h24v24H0V0z\" fill=\"none\"/>\n",
              "    <path d=\"M18.56 5.44l.94 2.06.94-2.06 2.06-.94-2.06-.94-.94-2.06-.94 2.06-2.06.94zm-11 1L8.5 8.5l.94-2.06 2.06-.94-2.06-.94L8.5 2.5l-.94 2.06-2.06.94zm10 10l.94 2.06.94-2.06 2.06-.94-2.06-.94-.94-2.06-.94 2.06-2.06.94z\"/><path d=\"M17.41 7.96l-1.37-1.37c-.4-.4-.92-.59-1.43-.59-.52 0-1.04.2-1.43.59L10.3 9.45l-7.72 7.72c-.78.78-.78 2.05 0 2.83L4 21.41c.39.39.9.59 1.41.59.51 0 1.02-.2 1.41-.59l7.78-7.78 2.81-2.81c.8-.78.8-2.07 0-2.86zM5.41 20L4 18.59l7.72-7.72 1.47 1.35L5.41 20z\"/>\n",
              "  </svg>\n",
              "      </button>\n",
              "      \n",
              "  <style>\n",
              "    .colab-df-container {\n",
              "      display:flex;\n",
              "      flex-wrap:wrap;\n",
              "      gap: 12px;\n",
              "    }\n",
              "\n",
              "    .colab-df-convert {\n",
              "      background-color: #E8F0FE;\n",
              "      border: none;\n",
              "      border-radius: 50%;\n",
              "      cursor: pointer;\n",
              "      display: none;\n",
              "      fill: #1967D2;\n",
              "      height: 32px;\n",
              "      padding: 0 0 0 0;\n",
              "      width: 32px;\n",
              "    }\n",
              "\n",
              "    .colab-df-convert:hover {\n",
              "      background-color: #E2EBFA;\n",
              "      box-shadow: 0px 1px 2px rgba(60, 64, 67, 0.3), 0px 1px 3px 1px rgba(60, 64, 67, 0.15);\n",
              "      fill: #174EA6;\n",
              "    }\n",
              "\n",
              "    [theme=dark] .colab-df-convert {\n",
              "      background-color: #3B4455;\n",
              "      fill: #D2E3FC;\n",
              "    }\n",
              "\n",
              "    [theme=dark] .colab-df-convert:hover {\n",
              "      background-color: #434B5C;\n",
              "      box-shadow: 0px 1px 3px 1px rgba(0, 0, 0, 0.15);\n",
              "      filter: drop-shadow(0px 1px 2px rgba(0, 0, 0, 0.3));\n",
              "      fill: #FFFFFF;\n",
              "    }\n",
              "  </style>\n",
              "\n",
              "      <script>\n",
              "        const buttonEl =\n",
              "          document.querySelector('#df-d23ff226-dacb-41ad-aedb-75109fa67f59 button.colab-df-convert');\n",
              "        buttonEl.style.display =\n",
              "          google.colab.kernel.accessAllowed ? 'block' : 'none';\n",
              "\n",
              "        async function convertToInteractive(key) {\n",
              "          const element = document.querySelector('#df-d23ff226-dacb-41ad-aedb-75109fa67f59');\n",
              "          const dataTable =\n",
              "            await google.colab.kernel.invokeFunction('convertToInteractive',\n",
              "                                                     [key], {});\n",
              "          if (!dataTable) return;\n",
              "\n",
              "          const docLinkHtml = 'Like what you see? Visit the ' +\n",
              "            '<a target=\"_blank\" href=https://colab.research.google.com/notebooks/data_table.ipynb>data table notebook</a>'\n",
              "            + ' to learn more about interactive tables.';\n",
              "          element.innerHTML = '';\n",
              "          dataTable['output_type'] = 'display_data';\n",
              "          await google.colab.output.renderOutput(dataTable, element);\n",
              "          const docLink = document.createElement('div');\n",
              "          docLink.innerHTML = docLinkHtml;\n",
              "          element.appendChild(docLink);\n",
              "        }\n",
              "      </script>\n",
              "    </div>\n",
              "  </div>\n",
              "  "
            ],
            "text/plain": [
              "     id  ... availability_365\n",
              "0  2539  ...              365\n",
              "1  2595  ...              355\n",
              "2  3647  ...              365\n",
              "3  3831  ...              194\n",
              "4  5022  ...                0\n",
              "\n",
              "[5 rows x 16 columns]"
            ]
          },
          "metadata": {},
          "execution_count": 4
        }
      ],
      "source": [
        "# checking first five rows of Data\n",
        "df.head()"
      ]
    },
    {
      "cell_type": "code",
      "execution_count": null,
      "metadata": {
        "id": "6xQXv9umZUQT",
        "colab": {
          "base_uri": "https://localhost:8080/"
        },
        "outputId": "85d4a573-0cf5-49d7-b7fa-e01df6e66341"
      },
      "outputs": [
        {
          "output_type": "stream",
          "name": "stdout",
          "text": [
            "<class 'pandas.core.frame.DataFrame'>\n",
            "RangeIndex: 48895 entries, 0 to 48894\n",
            "Data columns (total 16 columns):\n",
            " #   Column                          Non-Null Count  Dtype  \n",
            "---  ------                          --------------  -----  \n",
            " 0   id                              48895 non-null  int64  \n",
            " 1   name                            48879 non-null  object \n",
            " 2   host_id                         48895 non-null  int64  \n",
            " 3   host_name                       48874 non-null  object \n",
            " 4   neighbourhood_group             48895 non-null  object \n",
            " 5   neighbourhood                   48895 non-null  object \n",
            " 6   latitude                        48895 non-null  float64\n",
            " 7   longitude                       48895 non-null  float64\n",
            " 8   room_type                       48895 non-null  object \n",
            " 9   price                           48895 non-null  int64  \n",
            " 10  minimum_nights                  48895 non-null  int64  \n",
            " 11  number_of_reviews               48895 non-null  int64  \n",
            " 12  last_review                     38843 non-null  object \n",
            " 13  reviews_per_month               38843 non-null  float64\n",
            " 14  calculated_host_listings_count  48895 non-null  int64  \n",
            " 15  availability_365                48895 non-null  int64  \n",
            "dtypes: float64(3), int64(7), object(6)\n",
            "memory usage: 6.0+ MB\n"
          ]
        }
      ],
      "source": [
        "# Checking the Data types shape of dataframe\n",
        "df.info()"
      ]
    },
    {
      "cell_type": "code",
      "execution_count": null,
      "metadata": {
        "id": "uEhtVIlmmaWK",
        "colab": {
          "base_uri": "https://localhost:8080/"
        },
        "outputId": "eab3f6c5-9d58-4fc5-e0a7-1536d137d1b5"
      },
      "outputs": [
        {
          "output_type": "execute_result",
          "data": {
            "text/plain": [
              "Index(['id', 'name', 'host_id', 'host_name', 'neighbourhood_group',\n",
              "       'neighbourhood', 'latitude', 'longitude', 'room_type', 'price',\n",
              "       'minimum_nights', 'number_of_reviews', 'last_review',\n",
              "       'reviews_per_month', 'calculated_host_listings_count',\n",
              "       'availability_365'],\n",
              "      dtype='object')"
            ]
          },
          "metadata": {},
          "execution_count": 6
        }
      ],
      "source": [
        "# checking different type of columns\n",
        "df.columns"
      ]
    },
    {
      "cell_type": "code",
      "execution_count": null,
      "metadata": {
        "id": "rTcrgtd0nTm5",
        "colab": {
          "base_uri": "https://localhost:8080/"
        },
        "outputId": "46c49dc9-eb22-4667-87c1-c842d9b00db7"
      },
      "outputs": [
        {
          "output_type": "execute_result",
          "data": {
            "text/plain": [
              "{'availability_365': 366,\n",
              " 'calculated_host_listings_count': 47,\n",
              " 'host_id': 37457,\n",
              " 'host_name': 11452,\n",
              " 'id': 48895,\n",
              " 'last_review': 1764,\n",
              " 'latitude': 19048,\n",
              " 'longitude': 14718,\n",
              " 'minimum_nights': 109,\n",
              " 'name': 47905,\n",
              " 'neighbourhood': 221,\n",
              " 'neighbourhood_group': 5,\n",
              " 'number_of_reviews': 394,\n",
              " 'price': 674,\n",
              " 'reviews_per_month': 937,\n",
              " 'room_type': 3}"
            ]
          },
          "metadata": {},
          "execution_count": 7
        }
      ],
      "source": [
        "# Chekcking the number of unique values in each column\n",
        "_dict_ = {}\n",
        "for i in list(df.columns):\n",
        "  _dict_.update({i:df[i].nunique()})\n",
        "_dict_"
      ]
    },
    {
      "cell_type": "markdown",
      "metadata": {
        "id": "Qdjzv1XV9AtU"
      },
      "source": [
        "#**Insights into the number of Unique values of each variable**\n",
        "\n",
        "\n",
        "*   Some hosts_ids has more than 1 property available for listing\n",
        "*   Since host_ids are the unique identification number either there are multiple host with same name orthey have multiple host_ids based on different location.\n",
        "\n"
      ]
    },
    {
      "cell_type": "code",
      "execution_count": null,
      "metadata": {
        "id": "y0DzN1ul8ja4",
        "colab": {
          "base_uri": "https://localhost:8080/"
        },
        "outputId": "58587f18-8969-47a1-f589-04aa9f3642da"
      },
      "outputs": [
        {
          "output_type": "execute_result",
          "data": {
            "text/plain": [
              "Michael              417\n",
              "David                403\n",
              "Sonder (NYC)         327\n",
              "John                 294\n",
              "Alex                 279\n",
              "                    ... \n",
              "Rhonycs                1\n",
              "Brandy-Courtney        1\n",
              "Shanthony              1\n",
              "Aurore And Jamila      1\n",
              "Ilgar & Aysel          1\n",
              "Name: host_name, Length: 11452, dtype: int64"
            ]
          },
          "metadata": {},
          "execution_count": 8
        }
      ],
      "source": [
        "#checking the number of listings by host_name\n",
        "df.host_name.value_counts()"
      ]
    },
    {
      "cell_type": "markdown",
      "metadata": {
        "id": "mYhbXvre-_TM"
      },
      "source": [
        "Michael has rented the most number of places lets check the the dataset with Michael as host"
      ]
    },
    {
      "cell_type": "code",
      "execution_count": null,
      "metadata": {
        "id": "GHSYa-k9-gtN",
        "colab": {
          "base_uri": "https://localhost:8080/",
          "height": 1000
        },
        "outputId": "4847452c-3f78-4f4b-ee36-3c1f71b88282"
      },
      "outputs": [
        {
          "output_type": "execute_result",
          "data": {
            "text/html": [
              "\n",
              "  <div id=\"df-a8857677-d396-433c-ace1-0ea7761f6dbe\">\n",
              "    <div class=\"colab-df-container\">\n",
              "      <div>\n",
              "<style scoped>\n",
              "    .dataframe tbody tr th:only-of-type {\n",
              "        vertical-align: middle;\n",
              "    }\n",
              "\n",
              "    .dataframe tbody tr th {\n",
              "        vertical-align: top;\n",
              "    }\n",
              "\n",
              "    .dataframe thead th {\n",
              "        text-align: right;\n",
              "    }\n",
              "</style>\n",
              "<table border=\"1\" class=\"dataframe\">\n",
              "  <thead>\n",
              "    <tr style=\"text-align: right;\">\n",
              "      <th></th>\n",
              "      <th>id</th>\n",
              "      <th>name</th>\n",
              "      <th>host_id</th>\n",
              "      <th>host_name</th>\n",
              "      <th>neighbourhood_group</th>\n",
              "      <th>neighbourhood</th>\n",
              "      <th>latitude</th>\n",
              "      <th>longitude</th>\n",
              "      <th>room_type</th>\n",
              "      <th>price</th>\n",
              "      <th>minimum_nights</th>\n",
              "      <th>number_of_reviews</th>\n",
              "      <th>last_review</th>\n",
              "      <th>reviews_per_month</th>\n",
              "      <th>calculated_host_listings_count</th>\n",
              "      <th>availability_365</th>\n",
              "    </tr>\n",
              "  </thead>\n",
              "  <tbody>\n",
              "    <tr>\n",
              "      <th>151</th>\n",
              "      <td>36121</td>\n",
              "      <td>Lg Rm in Historic Prospect Heights</td>\n",
              "      <td>62165</td>\n",
              "      <td>Michael</td>\n",
              "      <td>Brooklyn</td>\n",
              "      <td>Prospect Heights</td>\n",
              "      <td>40.67386</td>\n",
              "      <td>-73.96641</td>\n",
              "      <td>Private room</td>\n",
              "      <td>85</td>\n",
              "      <td>15</td>\n",
              "      <td>9</td>\n",
              "      <td>2013-05-10</td>\n",
              "      <td>0.09</td>\n",
              "      <td>1</td>\n",
              "      <td>339</td>\n",
              "    </tr>\n",
              "    <tr>\n",
              "      <th>412</th>\n",
              "      <td>138216</td>\n",
              "      <td>Sunny and Spacious Designer's Home</td>\n",
              "      <td>674970</td>\n",
              "      <td>Michael</td>\n",
              "      <td>Brooklyn</td>\n",
              "      <td>Greenpoint</td>\n",
              "      <td>40.72212</td>\n",
              "      <td>-73.94254</td>\n",
              "      <td>Entire home/apt</td>\n",
              "      <td>141</td>\n",
              "      <td>5</td>\n",
              "      <td>8</td>\n",
              "      <td>2018-07-08</td>\n",
              "      <td>0.21</td>\n",
              "      <td>1</td>\n",
              "      <td>9</td>\n",
              "    </tr>\n",
              "    <tr>\n",
              "      <th>519</th>\n",
              "      <td>189135</td>\n",
              "      <td>Hell's Kitchen Funky 80's Hideaway!</td>\n",
              "      <td>179020</td>\n",
              "      <td>Michael</td>\n",
              "      <td>Manhattan</td>\n",
              "      <td>Hell's Kitchen</td>\n",
              "      <td>40.76311</td>\n",
              "      <td>-73.99388</td>\n",
              "      <td>Private room</td>\n",
              "      <td>99</td>\n",
              "      <td>1</td>\n",
              "      <td>89</td>\n",
              "      <td>2019-07-01</td>\n",
              "      <td>1.00</td>\n",
              "      <td>1</td>\n",
              "      <td>353</td>\n",
              "    </tr>\n",
              "    <tr>\n",
              "      <th>616</th>\n",
              "      <td>233189</td>\n",
              "      <td>NYC Studio in Heart of Times Square</td>\n",
              "      <td>1220414</td>\n",
              "      <td>Michael</td>\n",
              "      <td>Manhattan</td>\n",
              "      <td>Hell's Kitchen</td>\n",
              "      <td>40.76166</td>\n",
              "      <td>-73.99675</td>\n",
              "      <td>Entire home/apt</td>\n",
              "      <td>179</td>\n",
              "      <td>30</td>\n",
              "      <td>83</td>\n",
              "      <td>2019-05-31</td>\n",
              "      <td>0.88</td>\n",
              "      <td>1</td>\n",
              "      <td>292</td>\n",
              "    </tr>\n",
              "    <tr>\n",
              "      <th>811</th>\n",
              "      <td>289037</td>\n",
              "      <td>2BR in Cobble Hill, Brooklyn, NY</td>\n",
              "      <td>632334</td>\n",
              "      <td>Michael</td>\n",
              "      <td>Brooklyn</td>\n",
              "      <td>Carroll Gardens</td>\n",
              "      <td>40.68353</td>\n",
              "      <td>-73.99140</td>\n",
              "      <td>Entire home/apt</td>\n",
              "      <td>189</td>\n",
              "      <td>2</td>\n",
              "      <td>13</td>\n",
              "      <td>2016-09-05</td>\n",
              "      <td>0.18</td>\n",
              "      <td>1</td>\n",
              "      <td>0</td>\n",
              "    </tr>\n",
              "    <tr>\n",
              "      <th>...</th>\n",
              "      <td>...</td>\n",
              "      <td>...</td>\n",
              "      <td>...</td>\n",
              "      <td>...</td>\n",
              "      <td>...</td>\n",
              "      <td>...</td>\n",
              "      <td>...</td>\n",
              "      <td>...</td>\n",
              "      <td>...</td>\n",
              "      <td>...</td>\n",
              "      <td>...</td>\n",
              "      <td>...</td>\n",
              "      <td>...</td>\n",
              "      <td>...</td>\n",
              "      <td>...</td>\n",
              "      <td>...</td>\n",
              "    </tr>\n",
              "    <tr>\n",
              "      <th>48378</th>\n",
              "      <td>36228909</td>\n",
              "      <td>Sunny SoHo Penthouse w/ Pvt. Terrace!</td>\n",
              "      <td>272485928</td>\n",
              "      <td>Michael</td>\n",
              "      <td>Manhattan</td>\n",
              "      <td>SoHo</td>\n",
              "      <td>40.72336</td>\n",
              "      <td>-74.00465</td>\n",
              "      <td>Entire home/apt</td>\n",
              "      <td>600</td>\n",
              "      <td>3</td>\n",
              "      <td>0</td>\n",
              "      <td>NaN</td>\n",
              "      <td>NaN</td>\n",
              "      <td>1</td>\n",
              "      <td>179</td>\n",
              "    </tr>\n",
              "    <tr>\n",
              "      <th>48531</th>\n",
              "      <td>36310247</td>\n",
              "      <td>Spacious 1 Bedroom With Private Garden</td>\n",
              "      <td>25498509</td>\n",
              "      <td>Michael</td>\n",
              "      <td>Brooklyn</td>\n",
              "      <td>Clinton Hill</td>\n",
              "      <td>40.68183</td>\n",
              "      <td>-73.96464</td>\n",
              "      <td>Entire home/apt</td>\n",
              "      <td>100</td>\n",
              "      <td>1</td>\n",
              "      <td>0</td>\n",
              "      <td>NaN</td>\n",
              "      <td>NaN</td>\n",
              "      <td>1</td>\n",
              "      <td>6</td>\n",
              "    </tr>\n",
              "    <tr>\n",
              "      <th>48786</th>\n",
              "      <td>36426788</td>\n",
              "      <td>Serene Room 5 mins from JFK / 15 mins from LGA</td>\n",
              "      <td>266645207</td>\n",
              "      <td>Michael</td>\n",
              "      <td>Queens</td>\n",
              "      <td>Laurelton</td>\n",
              "      <td>40.67025</td>\n",
              "      <td>-73.74548</td>\n",
              "      <td>Private room</td>\n",
              "      <td>75</td>\n",
              "      <td>1</td>\n",
              "      <td>0</td>\n",
              "      <td>NaN</td>\n",
              "      <td>NaN</td>\n",
              "      <td>2</td>\n",
              "      <td>180</td>\n",
              "    </tr>\n",
              "    <tr>\n",
              "      <th>48830</th>\n",
              "      <td>36450318</td>\n",
              "      <td>LUXURY, PRIVATE APT ACROSS FROM EMPIRE STATE</td>\n",
              "      <td>151831356</td>\n",
              "      <td>Michael</td>\n",
              "      <td>Manhattan</td>\n",
              "      <td>Midtown</td>\n",
              "      <td>40.74607</td>\n",
              "      <td>-73.98599</td>\n",
              "      <td>Entire home/apt</td>\n",
              "      <td>199</td>\n",
              "      <td>1</td>\n",
              "      <td>0</td>\n",
              "      <td>NaN</td>\n",
              "      <td>NaN</td>\n",
              "      <td>1</td>\n",
              "      <td>14</td>\n",
              "    </tr>\n",
              "    <tr>\n",
              "      <th>48889</th>\n",
              "      <td>36484363</td>\n",
              "      <td>QUIT PRIVATE HOUSE</td>\n",
              "      <td>107716952</td>\n",
              "      <td>Michael</td>\n",
              "      <td>Queens</td>\n",
              "      <td>Jamaica</td>\n",
              "      <td>40.69137</td>\n",
              "      <td>-73.80844</td>\n",
              "      <td>Private room</td>\n",
              "      <td>65</td>\n",
              "      <td>1</td>\n",
              "      <td>0</td>\n",
              "      <td>NaN</td>\n",
              "      <td>NaN</td>\n",
              "      <td>2</td>\n",
              "      <td>163</td>\n",
              "    </tr>\n",
              "  </tbody>\n",
              "</table>\n",
              "<p>417 rows × 16 columns</p>\n",
              "</div>\n",
              "      <button class=\"colab-df-convert\" onclick=\"convertToInteractive('df-a8857677-d396-433c-ace1-0ea7761f6dbe')\"\n",
              "              title=\"Convert this dataframe to an interactive table.\"\n",
              "              style=\"display:none;\">\n",
              "        \n",
              "  <svg xmlns=\"http://www.w3.org/2000/svg\" height=\"24px\"viewBox=\"0 0 24 24\"\n",
              "       width=\"24px\">\n",
              "    <path d=\"M0 0h24v24H0V0z\" fill=\"none\"/>\n",
              "    <path d=\"M18.56 5.44l.94 2.06.94-2.06 2.06-.94-2.06-.94-.94-2.06-.94 2.06-2.06.94zm-11 1L8.5 8.5l.94-2.06 2.06-.94-2.06-.94L8.5 2.5l-.94 2.06-2.06.94zm10 10l.94 2.06.94-2.06 2.06-.94-2.06-.94-.94-2.06-.94 2.06-2.06.94z\"/><path d=\"M17.41 7.96l-1.37-1.37c-.4-.4-.92-.59-1.43-.59-.52 0-1.04.2-1.43.59L10.3 9.45l-7.72 7.72c-.78.78-.78 2.05 0 2.83L4 21.41c.39.39.9.59 1.41.59.51 0 1.02-.2 1.41-.59l7.78-7.78 2.81-2.81c.8-.78.8-2.07 0-2.86zM5.41 20L4 18.59l7.72-7.72 1.47 1.35L5.41 20z\"/>\n",
              "  </svg>\n",
              "      </button>\n",
              "      \n",
              "  <style>\n",
              "    .colab-df-container {\n",
              "      display:flex;\n",
              "      flex-wrap:wrap;\n",
              "      gap: 12px;\n",
              "    }\n",
              "\n",
              "    .colab-df-convert {\n",
              "      background-color: #E8F0FE;\n",
              "      border: none;\n",
              "      border-radius: 50%;\n",
              "      cursor: pointer;\n",
              "      display: none;\n",
              "      fill: #1967D2;\n",
              "      height: 32px;\n",
              "      padding: 0 0 0 0;\n",
              "      width: 32px;\n",
              "    }\n",
              "\n",
              "    .colab-df-convert:hover {\n",
              "      background-color: #E2EBFA;\n",
              "      box-shadow: 0px 1px 2px rgba(60, 64, 67, 0.3), 0px 1px 3px 1px rgba(60, 64, 67, 0.15);\n",
              "      fill: #174EA6;\n",
              "    }\n",
              "\n",
              "    [theme=dark] .colab-df-convert {\n",
              "      background-color: #3B4455;\n",
              "      fill: #D2E3FC;\n",
              "    }\n",
              "\n",
              "    [theme=dark] .colab-df-convert:hover {\n",
              "      background-color: #434B5C;\n",
              "      box-shadow: 0px 1px 3px 1px rgba(0, 0, 0, 0.15);\n",
              "      filter: drop-shadow(0px 1px 2px rgba(0, 0, 0, 0.3));\n",
              "      fill: #FFFFFF;\n",
              "    }\n",
              "  </style>\n",
              "\n",
              "      <script>\n",
              "        const buttonEl =\n",
              "          document.querySelector('#df-a8857677-d396-433c-ace1-0ea7761f6dbe button.colab-df-convert');\n",
              "        buttonEl.style.display =\n",
              "          google.colab.kernel.accessAllowed ? 'block' : 'none';\n",
              "\n",
              "        async function convertToInteractive(key) {\n",
              "          const element = document.querySelector('#df-a8857677-d396-433c-ace1-0ea7761f6dbe');\n",
              "          const dataTable =\n",
              "            await google.colab.kernel.invokeFunction('convertToInteractive',\n",
              "                                                     [key], {});\n",
              "          if (!dataTable) return;\n",
              "\n",
              "          const docLinkHtml = 'Like what you see? Visit the ' +\n",
              "            '<a target=\"_blank\" href=https://colab.research.google.com/notebooks/data_table.ipynb>data table notebook</a>'\n",
              "            + ' to learn more about interactive tables.';\n",
              "          element.innerHTML = '';\n",
              "          dataTable['output_type'] = 'display_data';\n",
              "          await google.colab.output.renderOutput(dataTable, element);\n",
              "          const docLink = document.createElement('div');\n",
              "          docLink.innerHTML = docLinkHtml;\n",
              "          element.appendChild(docLink);\n",
              "        }\n",
              "      </script>\n",
              "    </div>\n",
              "  </div>\n",
              "  "
            ],
            "text/plain": [
              "             id  ... availability_365\n",
              "151       36121  ...              339\n",
              "412      138216  ...                9\n",
              "519      189135  ...              353\n",
              "616      233189  ...              292\n",
              "811      289037  ...                0\n",
              "...         ...  ...              ...\n",
              "48378  36228909  ...              179\n",
              "48531  36310247  ...                6\n",
              "48786  36426788  ...              180\n",
              "48830  36450318  ...               14\n",
              "48889  36484363  ...              163\n",
              "\n",
              "[417 rows x 16 columns]"
            ]
          },
          "metadata": {},
          "execution_count": 9
        }
      ],
      "source": [
        "#checkig the number of listing of Michael\n",
        "df[df['host_name'] =='Michael']"
      ]
    },
    {
      "cell_type": "markdown",
      "metadata": {
        "id": "m87f834RlJEF"
      },
      "source": [
        "#**Insights on Variables**\n",
        "Each property has particular Host_id, but particular host could have multiple properties available for listing\n",
        "\n",
        "**Categorical Variables** : name,host_name ,neighbourhood_group,neighbourhood,room_type\n",
        "\n",
        "**Numerical variables** :id, latitude, longitude,price,minimum_nights,number_of_reviews,last_review, reviews_per_month calculated_host_listings_count, availability_365.\n"
      ]
    },
    {
      "cell_type": "markdown",
      "metadata": {
        "id": "CK7jY2ZXqJGS"
      },
      "source": [
        "#**Attributes of each variable:**\n",
        "\n",
        "**id** : Unique for each Propety Listing.\n",
        "\n",
        "**name** : Name of the each Propety Listing. \n",
        "\n",
        "**host_id** : Unique ID for host who have listed the property on Airbnb.\n",
        "\n",
        "**host_name** : Name of host\n",
        "\n",
        "**neighbourhood_group** : Name of Each boroughs of NYC, ***Manhattan, Brooklyn,Queens,Bronx, State Island.***\n",
        "\n",
        "**neighbourhood** : Area in each borough of NYC\n",
        "\n",
        "**latitude, longitude** : Co-ordinates of each listed property\n",
        "\n",
        "**room_type** : Differnt types of room available for listing , ***Private room,Entire home/apt,Shared room.***\n",
        "\n",
        "**price** : Price of listing.\n",
        "\n",
        "**minimum_nigths**  : Mandatory number of nights to be booked for available foe each type of property.\n",
        "\n",
        "**number_of_review** : Number of reviews for each Listed property \n",
        "\n",
        "**last_review** : Date on whcih last time the listing was reviewed\n",
        "\n",
        "**review_per_month** : Number of reviews per month\n",
        "\n",
        "**calculated_host_listings_count** : Number of listing each host owns\n",
        "\n",
        "**availablity_365** : Number of days the given listing is available for booking\n",
        "\n",
        "\n",
        "\n",
        "\n",
        "\n",
        "\n"
      ]
    },
    {
      "cell_type": "code",
      "execution_count": null,
      "metadata": {
        "id": "POowvFz8vfrM",
        "colab": {
          "base_uri": "https://localhost:8080/",
          "height": 300
        },
        "outputId": "117bc717-c095-462b-a433-c4135cbf1d64"
      },
      "outputs": [
        {
          "output_type": "execute_result",
          "data": {
            "text/html": [
              "\n",
              "  <div id=\"df-6a1ab502-486a-4525-bbf4-c55903cb1c53\">\n",
              "    <div class=\"colab-df-container\">\n",
              "      <div>\n",
              "<style scoped>\n",
              "    .dataframe tbody tr th:only-of-type {\n",
              "        vertical-align: middle;\n",
              "    }\n",
              "\n",
              "    .dataframe tbody tr th {\n",
              "        vertical-align: top;\n",
              "    }\n",
              "\n",
              "    .dataframe thead th {\n",
              "        text-align: right;\n",
              "    }\n",
              "</style>\n",
              "<table border=\"1\" class=\"dataframe\">\n",
              "  <thead>\n",
              "    <tr style=\"text-align: right;\">\n",
              "      <th></th>\n",
              "      <th>id</th>\n",
              "      <th>host_id</th>\n",
              "      <th>latitude</th>\n",
              "      <th>longitude</th>\n",
              "      <th>price</th>\n",
              "      <th>minimum_nights</th>\n",
              "      <th>number_of_reviews</th>\n",
              "      <th>reviews_per_month</th>\n",
              "      <th>calculated_host_listings_count</th>\n",
              "      <th>availability_365</th>\n",
              "    </tr>\n",
              "  </thead>\n",
              "  <tbody>\n",
              "    <tr>\n",
              "      <th>count</th>\n",
              "      <td>4.889500e+04</td>\n",
              "      <td>4.889500e+04</td>\n",
              "      <td>48895.000000</td>\n",
              "      <td>48895.000000</td>\n",
              "      <td>48895.000000</td>\n",
              "      <td>48895.000000</td>\n",
              "      <td>48895.000000</td>\n",
              "      <td>38843.000000</td>\n",
              "      <td>48895.000000</td>\n",
              "      <td>48895.000000</td>\n",
              "    </tr>\n",
              "    <tr>\n",
              "      <th>mean</th>\n",
              "      <td>1.901714e+07</td>\n",
              "      <td>6.762001e+07</td>\n",
              "      <td>40.728949</td>\n",
              "      <td>-73.952170</td>\n",
              "      <td>152.720687</td>\n",
              "      <td>7.029962</td>\n",
              "      <td>23.274466</td>\n",
              "      <td>1.373221</td>\n",
              "      <td>7.143982</td>\n",
              "      <td>112.781327</td>\n",
              "    </tr>\n",
              "    <tr>\n",
              "      <th>std</th>\n",
              "      <td>1.098311e+07</td>\n",
              "      <td>7.861097e+07</td>\n",
              "      <td>0.054530</td>\n",
              "      <td>0.046157</td>\n",
              "      <td>240.154170</td>\n",
              "      <td>20.510550</td>\n",
              "      <td>44.550582</td>\n",
              "      <td>1.680442</td>\n",
              "      <td>32.952519</td>\n",
              "      <td>131.622289</td>\n",
              "    </tr>\n",
              "    <tr>\n",
              "      <th>min</th>\n",
              "      <td>2.539000e+03</td>\n",
              "      <td>2.438000e+03</td>\n",
              "      <td>40.499790</td>\n",
              "      <td>-74.244420</td>\n",
              "      <td>0.000000</td>\n",
              "      <td>1.000000</td>\n",
              "      <td>0.000000</td>\n",
              "      <td>0.010000</td>\n",
              "      <td>1.000000</td>\n",
              "      <td>0.000000</td>\n",
              "    </tr>\n",
              "    <tr>\n",
              "      <th>25%</th>\n",
              "      <td>9.471945e+06</td>\n",
              "      <td>7.822033e+06</td>\n",
              "      <td>40.690100</td>\n",
              "      <td>-73.983070</td>\n",
              "      <td>69.000000</td>\n",
              "      <td>1.000000</td>\n",
              "      <td>1.000000</td>\n",
              "      <td>0.190000</td>\n",
              "      <td>1.000000</td>\n",
              "      <td>0.000000</td>\n",
              "    </tr>\n",
              "    <tr>\n",
              "      <th>50%</th>\n",
              "      <td>1.967728e+07</td>\n",
              "      <td>3.079382e+07</td>\n",
              "      <td>40.723070</td>\n",
              "      <td>-73.955680</td>\n",
              "      <td>106.000000</td>\n",
              "      <td>3.000000</td>\n",
              "      <td>5.000000</td>\n",
              "      <td>0.720000</td>\n",
              "      <td>1.000000</td>\n",
              "      <td>45.000000</td>\n",
              "    </tr>\n",
              "    <tr>\n",
              "      <th>75%</th>\n",
              "      <td>2.915218e+07</td>\n",
              "      <td>1.074344e+08</td>\n",
              "      <td>40.763115</td>\n",
              "      <td>-73.936275</td>\n",
              "      <td>175.000000</td>\n",
              "      <td>5.000000</td>\n",
              "      <td>24.000000</td>\n",
              "      <td>2.020000</td>\n",
              "      <td>2.000000</td>\n",
              "      <td>227.000000</td>\n",
              "    </tr>\n",
              "    <tr>\n",
              "      <th>max</th>\n",
              "      <td>3.648724e+07</td>\n",
              "      <td>2.743213e+08</td>\n",
              "      <td>40.913060</td>\n",
              "      <td>-73.712990</td>\n",
              "      <td>10000.000000</td>\n",
              "      <td>1250.000000</td>\n",
              "      <td>629.000000</td>\n",
              "      <td>58.500000</td>\n",
              "      <td>327.000000</td>\n",
              "      <td>365.000000</td>\n",
              "    </tr>\n",
              "  </tbody>\n",
              "</table>\n",
              "</div>\n",
              "      <button class=\"colab-df-convert\" onclick=\"convertToInteractive('df-6a1ab502-486a-4525-bbf4-c55903cb1c53')\"\n",
              "              title=\"Convert this dataframe to an interactive table.\"\n",
              "              style=\"display:none;\">\n",
              "        \n",
              "  <svg xmlns=\"http://www.w3.org/2000/svg\" height=\"24px\"viewBox=\"0 0 24 24\"\n",
              "       width=\"24px\">\n",
              "    <path d=\"M0 0h24v24H0V0z\" fill=\"none\"/>\n",
              "    <path d=\"M18.56 5.44l.94 2.06.94-2.06 2.06-.94-2.06-.94-.94-2.06-.94 2.06-2.06.94zm-11 1L8.5 8.5l.94-2.06 2.06-.94-2.06-.94L8.5 2.5l-.94 2.06-2.06.94zm10 10l.94 2.06.94-2.06 2.06-.94-2.06-.94-.94-2.06-.94 2.06-2.06.94z\"/><path d=\"M17.41 7.96l-1.37-1.37c-.4-.4-.92-.59-1.43-.59-.52 0-1.04.2-1.43.59L10.3 9.45l-7.72 7.72c-.78.78-.78 2.05 0 2.83L4 21.41c.39.39.9.59 1.41.59.51 0 1.02-.2 1.41-.59l7.78-7.78 2.81-2.81c.8-.78.8-2.07 0-2.86zM5.41 20L4 18.59l7.72-7.72 1.47 1.35L5.41 20z\"/>\n",
              "  </svg>\n",
              "      </button>\n",
              "      \n",
              "  <style>\n",
              "    .colab-df-container {\n",
              "      display:flex;\n",
              "      flex-wrap:wrap;\n",
              "      gap: 12px;\n",
              "    }\n",
              "\n",
              "    .colab-df-convert {\n",
              "      background-color: #E8F0FE;\n",
              "      border: none;\n",
              "      border-radius: 50%;\n",
              "      cursor: pointer;\n",
              "      display: none;\n",
              "      fill: #1967D2;\n",
              "      height: 32px;\n",
              "      padding: 0 0 0 0;\n",
              "      width: 32px;\n",
              "    }\n",
              "\n",
              "    .colab-df-convert:hover {\n",
              "      background-color: #E2EBFA;\n",
              "      box-shadow: 0px 1px 2px rgba(60, 64, 67, 0.3), 0px 1px 3px 1px rgba(60, 64, 67, 0.15);\n",
              "      fill: #174EA6;\n",
              "    }\n",
              "\n",
              "    [theme=dark] .colab-df-convert {\n",
              "      background-color: #3B4455;\n",
              "      fill: #D2E3FC;\n",
              "    }\n",
              "\n",
              "    [theme=dark] .colab-df-convert:hover {\n",
              "      background-color: #434B5C;\n",
              "      box-shadow: 0px 1px 3px 1px rgba(0, 0, 0, 0.15);\n",
              "      filter: drop-shadow(0px 1px 2px rgba(0, 0, 0, 0.3));\n",
              "      fill: #FFFFFF;\n",
              "    }\n",
              "  </style>\n",
              "\n",
              "      <script>\n",
              "        const buttonEl =\n",
              "          document.querySelector('#df-6a1ab502-486a-4525-bbf4-c55903cb1c53 button.colab-df-convert');\n",
              "        buttonEl.style.display =\n",
              "          google.colab.kernel.accessAllowed ? 'block' : 'none';\n",
              "\n",
              "        async function convertToInteractive(key) {\n",
              "          const element = document.querySelector('#df-6a1ab502-486a-4525-bbf4-c55903cb1c53');\n",
              "          const dataTable =\n",
              "            await google.colab.kernel.invokeFunction('convertToInteractive',\n",
              "                                                     [key], {});\n",
              "          if (!dataTable) return;\n",
              "\n",
              "          const docLinkHtml = 'Like what you see? Visit the ' +\n",
              "            '<a target=\"_blank\" href=https://colab.research.google.com/notebooks/data_table.ipynb>data table notebook</a>'\n",
              "            + ' to learn more about interactive tables.';\n",
              "          element.innerHTML = '';\n",
              "          dataTable['output_type'] = 'display_data';\n",
              "          await google.colab.output.renderOutput(dataTable, element);\n",
              "          const docLink = document.createElement('div');\n",
              "          docLink.innerHTML = docLinkHtml;\n",
              "          element.appendChild(docLink);\n",
              "        }\n",
              "      </script>\n",
              "    </div>\n",
              "  </div>\n",
              "  "
            ],
            "text/plain": [
              "                 id  ...  availability_365\n",
              "count  4.889500e+04  ...      48895.000000\n",
              "mean   1.901714e+07  ...        112.781327\n",
              "std    1.098311e+07  ...        131.622289\n",
              "min    2.539000e+03  ...          0.000000\n",
              "25%    9.471945e+06  ...          0.000000\n",
              "50%    1.967728e+07  ...         45.000000\n",
              "75%    2.915218e+07  ...        227.000000\n",
              "max    3.648724e+07  ...        365.000000\n",
              "\n",
              "[8 rows x 10 columns]"
            ]
          },
          "metadata": {},
          "execution_count": 10
        }
      ],
      "source": [
        "#checking the aspects of numeric data in thes set\n",
        "df.describe()"
      ]
    },
    {
      "cell_type": "markdown",
      "metadata": {
        "id": "v16ZTBDG0Sd4"
      },
      "source": [
        "There are some listings available with 0 price! \n",
        "\n",
        "Neighbourhood, price,reviews are the primary attributes that will attract customers.\n",
        "\n",
        "#**Minium pricing, good locale and positive review will be ideal location for stay.  minimal number_of_nights and availablity will be like cherry on cake!!**"
      ]
    },
    {
      "cell_type": "code",
      "execution_count": null,
      "metadata": {
        "id": "--Nsptyb126C",
        "colab": {
          "base_uri": "https://localhost:8080/"
        },
        "outputId": "0ef10e7a-f440-438f-e1bb-d232ec917a8c"
      },
      "outputs": [
        {
          "output_type": "execute_result",
          "data": {
            "text/plain": [
              "id                                    0\n",
              "name                                 16\n",
              "host_id                               0\n",
              "host_name                            21\n",
              "neighbourhood_group                   0\n",
              "neighbourhood                         0\n",
              "latitude                              0\n",
              "longitude                             0\n",
              "room_type                             0\n",
              "price                                 0\n",
              "minimum_nights                        0\n",
              "number_of_reviews                     0\n",
              "last_review                       10052\n",
              "reviews_per_month                 10052\n",
              "calculated_host_listings_count        0\n",
              "availability_365                      0\n",
              "dtype: int64"
            ]
          },
          "metadata": {},
          "execution_count": 11
        }
      ],
      "source": [
        "# lets check on the missing values\n",
        "df.isnull().sum()"
      ]
    },
    {
      "cell_type": "markdown",
      "metadata": {
        "id": "gT47WkLL3bln"
      },
      "source": [
        "**Missig Values:**\n",
        "lets replace the Names and host_names with some strings as both are categorical variables"
      ]
    },
    {
      "cell_type": "code",
      "execution_count": null,
      "metadata": {
        "id": "vl8w-S5j3OJy"
      },
      "outputs": [],
      "source": [
        "df['name'].fillna('unknown',inplace=True)\n",
        "df['host_name'].fillna('no_name',inplace=True)"
      ]
    },
    {
      "cell_type": "markdown",
      "metadata": {
        "id": "FceyYBAaAA6q"
      },
      "source": [
        " **Removeing last_review'** last_review' has many null values, it's not much required for our analysis as compared to number_of_reviews & reviews_per_month. lest drop this column\n"
      ]
    },
    {
      "cell_type": "code",
      "execution_count": null,
      "metadata": {
        "id": "Z2qJsbjz_ngo"
      },
      "outputs": [],
      "source": [
        "# removeing the last_review column\n",
        "df= df.drop(['last_review'],axis=1)"
      ]
    },
    {
      "cell_type": "code",
      "execution_count": null,
      "metadata": {
        "id": "WZyBRsWsAiRy",
        "colab": {
          "base_uri": "https://localhost:8080/"
        },
        "outputId": "acce9f3d-ee18-4d0e-b24d-cb8154c77781"
      },
      "outputs": [
        {
          "output_type": "stream",
          "name": "stdout",
          "text": [
            "<class 'pandas.core.frame.DataFrame'>\n",
            "RangeIndex: 48895 entries, 0 to 48894\n",
            "Data columns (total 15 columns):\n",
            " #   Column                          Non-Null Count  Dtype  \n",
            "---  ------                          --------------  -----  \n",
            " 0   id                              48895 non-null  int64  \n",
            " 1   name                            48895 non-null  object \n",
            " 2   host_id                         48895 non-null  int64  \n",
            " 3   host_name                       48895 non-null  object \n",
            " 4   neighbourhood_group             48895 non-null  object \n",
            " 5   neighbourhood                   48895 non-null  object \n",
            " 6   latitude                        48895 non-null  float64\n",
            " 7   longitude                       48895 non-null  float64\n",
            " 8   room_type                       48895 non-null  object \n",
            " 9   price                           48895 non-null  int64  \n",
            " 10  minimum_nights                  48895 non-null  int64  \n",
            " 11  number_of_reviews               48895 non-null  int64  \n",
            " 12  reviews_per_month               38843 non-null  float64\n",
            " 13  calculated_host_listings_count  48895 non-null  int64  \n",
            " 14  availability_365                48895 non-null  int64  \n",
            "dtypes: float64(3), int64(7), object(5)\n",
            "memory usage: 5.6+ MB\n"
          ]
        }
      ],
      "source": [
        "df.info()"
      ]
    },
    {
      "cell_type": "code",
      "execution_count": null,
      "metadata": {
        "id": "uePQJyQ6AkAE"
      },
      "outputs": [],
      "source": [
        "# reviews per month has lot of null values as well, let replace them with 0\n",
        "df['reviews_per_month'].replace(np.nan,0,inplace =True)"
      ]
    },
    {
      "cell_type": "markdown",
      "metadata": {
        "id": "KPmvbW-4Czl8"
      },
      "source": [
        "Lets see if there are some Correlation withhin this variables"
      ]
    },
    {
      "cell_type": "code",
      "execution_count": null,
      "metadata": {
        "id": "x0GfQ3wfCxtS",
        "colab": {
          "base_uri": "https://localhost:8080/",
          "height": 583
        },
        "outputId": "ec72955b-f413-47d8-a0bd-8a84dae81830"
      },
      "outputs": [
        {
          "output_type": "execute_result",
          "data": {
            "text/plain": [
              "<matplotlib.axes._subplots.AxesSubplot at 0x7f59333c0590>"
            ]
          },
          "metadata": {},
          "execution_count": 16
        },
        {
          "output_type": "display_data",
          "data": {
            "image/png": "[encoded data removed]",
            "text/plain": [
              "<Figure size 600x400 with 2 Axes>"
            ]
          },
          "metadata": {
            "needs_background": "light"
          }
        }
      ],
      "source": [
        "plt.rcParams['figure.dpi'] = 100\n",
        "sns.heatmap(df.corr())"
      ]
    },
    {
      "cell_type": "markdown",
      "metadata": {
        "id": "PT1NTd7ABm_N"
      },
      "source": [
        "#**Heatmaps conclusions**\n",
        "\n",
        "Looks like  host_id and reviews_per_month are positively  co-related\n",
        "\n",
        "id and reviews_per_month are also co-related positively"
      ]
    },
    {
      "cell_type": "code",
      "execution_count": null,
      "metadata": {
        "id": "gFXK3KbABU0B"
      },
      "outputs": [],
      "source": [
        "#Creating data frame based on the number of stays in each boroughs\n",
        "Count_grp_neighbourhood = df['neighbourhood_group'].value_counts().to_frame().reset_index()\n",
        "Count_grp_neighbourhood.columns = ['neighbourhood_group','Count']"
      ]
    },
    {
      "cell_type": "code",
      "execution_count": null,
      "metadata": {
        "id": "MZM8ltnvCAfj",
        "colab": {
          "base_uri": "https://localhost:8080/",
          "height": 206
        },
        "outputId": "f585f239-61fc-426b-b06d-fa8806f85ef3"
      },
      "outputs": [
        {
          "output_type": "execute_result",
          "data": {
            "text/html": [
              "\n",
              "  <div id=\"df-324c7976-5b32-4bb6-97a6-6a9ccd723c04\">\n",
              "    <div class=\"colab-df-container\">\n",
              "      <div>\n",
              "<style scoped>\n",
              "    .dataframe tbody tr th:only-of-type {\n",
              "        vertical-align: middle;\n",
              "    }\n",
              "\n",
              "    .dataframe tbody tr th {\n",
              "        vertical-align: top;\n",
              "    }\n",
              "\n",
              "    .dataframe thead th {\n",
              "        text-align: right;\n",
              "    }\n",
              "</style>\n",
              "<table border=\"1\" class=\"dataframe\">\n",
              "  <thead>\n",
              "    <tr style=\"text-align: right;\">\n",
              "      <th></th>\n",
              "      <th>neighbourhood_group</th>\n",
              "      <th>Count</th>\n",
              "    </tr>\n",
              "  </thead>\n",
              "  <tbody>\n",
              "    <tr>\n",
              "      <th>0</th>\n",
              "      <td>Manhattan</td>\n",
              "      <td>21661</td>\n",
              "    </tr>\n",
              "    <tr>\n",
              "      <th>1</th>\n",
              "      <td>Brooklyn</td>\n",
              "      <td>20104</td>\n",
              "    </tr>\n",
              "    <tr>\n",
              "      <th>2</th>\n",
              "      <td>Queens</td>\n",
              "      <td>5666</td>\n",
              "    </tr>\n",
              "    <tr>\n",
              "      <th>3</th>\n",
              "      <td>Bronx</td>\n",
              "      <td>1091</td>\n",
              "    </tr>\n",
              "    <tr>\n",
              "      <th>4</th>\n",
              "      <td>Staten Island</td>\n",
              "      <td>373</td>\n",
              "    </tr>\n",
              "  </tbody>\n",
              "</table>\n",
              "</div>\n",
              "      <button class=\"colab-df-convert\" onclick=\"convertToInteractive('df-324c7976-5b32-4bb6-97a6-6a9ccd723c04')\"\n",
              "              title=\"Convert this dataframe to an interactive table.\"\n",
              "              style=\"display:none;\">\n",
              "        \n",
              "  <svg xmlns=\"http://www.w3.org/2000/svg\" height=\"24px\"viewBox=\"0 0 24 24\"\n",
              "       width=\"24px\">\n",
              "    <path d=\"M0 0h24v24H0V0z\" fill=\"none\"/>\n",
              "    <path d=\"M18.56 5.44l.94 2.06.94-2.06 2.06-.94-2.06-.94-.94-2.06-.94 2.06-2.06.94zm-11 1L8.5 8.5l.94-2.06 2.06-.94-2.06-.94L8.5 2.5l-.94 2.06-2.06.94zm10 10l.94 2.06.94-2.06 2.06-.94-2.06-.94-.94-2.06-.94 2.06-2.06.94z\"/><path d=\"M17.41 7.96l-1.37-1.37c-.4-.4-.92-.59-1.43-.59-.52 0-1.04.2-1.43.59L10.3 9.45l-7.72 7.72c-.78.78-.78 2.05 0 2.83L4 21.41c.39.39.9.59 1.41.59.51 0 1.02-.2 1.41-.59l7.78-7.78 2.81-2.81c.8-.78.8-2.07 0-2.86zM5.41 20L4 18.59l7.72-7.72 1.47 1.35L5.41 20z\"/>\n",
              "  </svg>\n",
              "      </button>\n",
              "      \n",
              "  <style>\n",
              "    .colab-df-container {\n",
              "      display:flex;\n",
              "      flex-wrap:wrap;\n",
              "      gap: 12px;\n",
              "    }\n",
              "\n",
              "    .colab-df-convert {\n",
              "      background-color: #E8F0FE;\n",
              "      border: none;\n",
              "      border-radius: 50%;\n",
              "      cursor: pointer;\n",
              "      display: none;\n",
              "      fill: #1967D2;\n",
              "      height: 32px;\n",
              "      padding: 0 0 0 0;\n",
              "      width: 32px;\n",
              "    }\n",
              "\n",
              "    .colab-df-convert:hover {\n",
              "      background-color: #E2EBFA;\n",
              "      box-shadow: 0px 1px 2px rgba(60, 64, 67, 0.3), 0px 1px 3px 1px rgba(60, 64, 67, 0.15);\n",
              "      fill: #174EA6;\n",
              "    }\n",
              "\n",
              "    [theme=dark] .colab-df-convert {\n",
              "      background-color: #3B4455;\n",
              "      fill: #D2E3FC;\n",
              "    }\n",
              "\n",
              "    [theme=dark] .colab-df-convert:hover {\n",
              "      background-color: #434B5C;\n",
              "      box-shadow: 0px 1px 3px 1px rgba(0, 0, 0, 0.15);\n",
              "      filter: drop-shadow(0px 1px 2px rgba(0, 0, 0, 0.3));\n",
              "      fill: #FFFFFF;\n",
              "    }\n",
              "  </style>\n",
              "\n",
              "      <script>\n",
              "        const buttonEl =\n",
              "          document.querySelector('#df-324c7976-5b32-4bb6-97a6-6a9ccd723c04 button.colab-df-convert');\n",
              "        buttonEl.style.display =\n",
              "          google.colab.kernel.accessAllowed ? 'block' : 'none';\n",
              "\n",
              "        async function convertToInteractive(key) {\n",
              "          const element = document.querySelector('#df-324c7976-5b32-4bb6-97a6-6a9ccd723c04');\n",
              "          const dataTable =\n",
              "            await google.colab.kernel.invokeFunction('convertToInteractive',\n",
              "                                                     [key], {});\n",
              "          if (!dataTable) return;\n",
              "\n",
              "          const docLinkHtml = 'Like what you see? Visit the ' +\n",
              "            '<a target=\"_blank\" href=https://colab.research.google.com/notebooks/data_table.ipynb>data table notebook</a>'\n",
              "            + ' to learn more about interactive tables.';\n",
              "          element.innerHTML = '';\n",
              "          dataTable['output_type'] = 'display_data';\n",
              "          await google.colab.output.renderOutput(dataTable, element);\n",
              "          const docLink = document.createElement('div');\n",
              "          docLink.innerHTML = docLinkHtml;\n",
              "          element.appendChild(docLink);\n",
              "        }\n",
              "      </script>\n",
              "    </div>\n",
              "  </div>\n",
              "  "
            ],
            "text/plain": [
              "  neighbourhood_group  Count\n",
              "0           Manhattan  21661\n",
              "1            Brooklyn  20104\n",
              "2              Queens   5666\n",
              "3               Bronx   1091\n",
              "4       Staten Island    373"
            ]
          },
          "metadata": {},
          "execution_count": 18
        }
      ],
      "source": [
        "Count_grp_neighbourhood  # lets see what we have got!"
      ]
    },
    {
      "cell_type": "markdown",
      "metadata": {
        "id": "t8BIkqa8CQJ9"
      },
      "source": [
        "# **Visualizing the Boroughs**"
      ]
    },
    {
      "cell_type": "code",
      "execution_count": null,
      "metadata": {
        "id": "2ewppkMbCCtc",
        "colab": {
          "base_uri": "https://localhost:8080/",
          "height": 380
        },
        "outputId": "f0335618-0ca6-45e6-848d-c43450ce89e6"
      },
      "outputs": [
        {
          "output_type": "execute_result",
          "data": {
            "text/plain": [
              "(-1.1215307066111553,\n",
              " 1.1010252719392823,\n",
              " -1.1032319347797068,\n",
              " 1.1271150006620354)"
            ]
          },
          "metadata": {},
          "execution_count": 19
        },
        {
          "output_type": "display_data",
          "data": {
            "image/png": "[encoded data removed]",
            "text/plain": [
              "<Figure size 700x300 with 1 Axes>"
            ]
          },
          "metadata": {}
        }
      ],
      "source": [
        "plt.rcParams[\"figure.figsize\"] = [7, 3]\n",
        "plt.rcParams[\"figure.autolayout\"] = True\n",
        "Labels1 = list(zip(list(Count_grp_neighbourhood.neighbourhood_group),list(Count_grp_neighbourhood.Count)))\n",
        "patches, texts = plt.pie(list(Count_grp_neighbourhood.Count))\n",
        "plt.legend(patches, Labels1, loc=\"best\")\n",
        "plt.title('Bookings in City ', size=15, color='#4f4e4e')\n",
        "plt.axis('equal')"
      ]
    },
    {
      "cell_type": "markdown",
      "metadata": {
        "id": "tYVvkObjEheT"
      },
      "source": [
        "**Lets See how is the Distribution of the Hosts**(host_ids)"
      ]
    },
    {
      "cell_type": "code",
      "execution_count": null,
      "metadata": {
        "id": "On7Zss4xCiHG"
      },
      "outputs": [],
      "source": [
        "# Creating dataFrame for the unique number of hosts in each borough\n",
        "Number_host =df[['host_id','neighbourhood_group']].drop_duplicates().groupby(['neighbourhood_group']).count().sort_values('host_id',ascending = False).reset_index()"
      ]
    },
    {
      "cell_type": "code",
      "execution_count": null,
      "metadata": {
        "id": "HkaVkl5OEt0c",
        "colab": {
          "base_uri": "https://localhost:8080/",
          "height": 206
        },
        "outputId": "d66c205f-f18d-4870-9472-87eeee75d9ce"
      },
      "outputs": [
        {
          "output_type": "execute_result",
          "data": {
            "text/html": [
              "\n",
              "  <div id=\"df-12b3b5c9-25ff-48e8-84dd-93714d09e147\">\n",
              "    <div class=\"colab-df-container\">\n",
              "      <div>\n",
              "<style scoped>\n",
              "    .dataframe tbody tr th:only-of-type {\n",
              "        vertical-align: middle;\n",
              "    }\n",
              "\n",
              "    .dataframe tbody tr th {\n",
              "        vertical-align: top;\n",
              "    }\n",
              "\n",
              "    .dataframe thead th {\n",
              "        text-align: right;\n",
              "    }\n",
              "</style>\n",
              "<table border=\"1\" class=\"dataframe\">\n",
              "  <thead>\n",
              "    <tr style=\"text-align: right;\">\n",
              "      <th></th>\n",
              "      <th>neighbourhood_group</th>\n",
              "      <th>host_id</th>\n",
              "    </tr>\n",
              "  </thead>\n",
              "  <tbody>\n",
              "    <tr>\n",
              "      <th>0</th>\n",
              "      <td>Manhattan</td>\n",
              "      <td>16578</td>\n",
              "    </tr>\n",
              "    <tr>\n",
              "      <th>1</th>\n",
              "      <td>Brooklyn</td>\n",
              "      <td>15966</td>\n",
              "    </tr>\n",
              "    <tr>\n",
              "      <th>2</th>\n",
              "      <td>Queens</td>\n",
              "      <td>3983</td>\n",
              "    </tr>\n",
              "    <tr>\n",
              "      <th>3</th>\n",
              "      <td>Bronx</td>\n",
              "      <td>789</td>\n",
              "    </tr>\n",
              "    <tr>\n",
              "      <th>4</th>\n",
              "      <td>Staten Island</td>\n",
              "      <td>256</td>\n",
              "    </tr>\n",
              "  </tbody>\n",
              "</table>\n",
              "</div>\n",
              "      <button class=\"colab-df-convert\" onclick=\"convertToInteractive('df-12b3b5c9-25ff-48e8-84dd-93714d09e147')\"\n",
              "              title=\"Convert this dataframe to an interactive table.\"\n",
              "              style=\"display:none;\">\n",
              "        \n",
              "  <svg xmlns=\"http://www.w3.org/2000/svg\" height=\"24px\"viewBox=\"0 0 24 24\"\n",
              "       width=\"24px\">\n",
              "    <path d=\"M0 0h24v24H0V0z\" fill=\"none\"/>\n",
              "    <path d=\"M18.56 5.44l.94 2.06.94-2.06 2.06-.94-2.06-.94-.94-2.06-.94 2.06-2.06.94zm-11 1L8.5 8.5l.94-2.06 2.06-.94-2.06-.94L8.5 2.5l-.94 2.06-2.06.94zm10 10l.94 2.06.94-2.06 2.06-.94-2.06-.94-.94-2.06-.94 2.06-2.06.94z\"/><path d=\"M17.41 7.96l-1.37-1.37c-.4-.4-.92-.59-1.43-.59-.52 0-1.04.2-1.43.59L10.3 9.45l-7.72 7.72c-.78.78-.78 2.05 0 2.83L4 21.41c.39.39.9.59 1.41.59.51 0 1.02-.2 1.41-.59l7.78-7.78 2.81-2.81c.8-.78.8-2.07 0-2.86zM5.41 20L4 18.59l7.72-7.72 1.47 1.35L5.41 20z\"/>\n",
              "  </svg>\n",
              "      </button>\n",
              "      \n",
              "  <style>\n",
              "    .colab-df-container {\n",
              "      display:flex;\n",
              "      flex-wrap:wrap;\n",
              "      gap: 12px;\n",
              "    }\n",
              "\n",
              "    .colab-df-convert {\n",
              "      background-color: #E8F0FE;\n",
              "      border: none;\n",
              "      border-radius: 50%;\n",
              "      cursor: pointer;\n",
              "      display: none;\n",
              "      fill: #1967D2;\n",
              "      height: 32px;\n",
              "      padding: 0 0 0 0;\n",
              "      width: 32px;\n",
              "    }\n",
              "\n",
              "    .colab-df-convert:hover {\n",
              "      background-color: #E2EBFA;\n",
              "      box-shadow: 0px 1px 2px rgba(60, 64, 67, 0.3), 0px 1px 3px 1px rgba(60, 64, 67, 0.15);\n",
              "      fill: #174EA6;\n",
              "    }\n",
              "\n",
              "    [theme=dark] .colab-df-convert {\n",
              "      background-color: #3B4455;\n",
              "      fill: #D2E3FC;\n",
              "    }\n",
              "\n",
              "    [theme=dark] .colab-df-convert:hover {\n",
              "      background-color: #434B5C;\n",
              "      box-shadow: 0px 1px 3px 1px rgba(0, 0, 0, 0.15);\n",
              "      filter: drop-shadow(0px 1px 2px rgba(0, 0, 0, 0.3));\n",
              "      fill: #FFFFFF;\n",
              "    }\n",
              "  </style>\n",
              "\n",
              "      <script>\n",
              "        const buttonEl =\n",
              "          document.querySelector('#df-12b3b5c9-25ff-48e8-84dd-93714d09e147 button.colab-df-convert');\n",
              "        buttonEl.style.display =\n",
              "          google.colab.kernel.accessAllowed ? 'block' : 'none';\n",
              "\n",
              "        async function convertToInteractive(key) {\n",
              "          const element = document.querySelector('#df-12b3b5c9-25ff-48e8-84dd-93714d09e147');\n",
              "          const dataTable =\n",
              "            await google.colab.kernel.invokeFunction('convertToInteractive',\n",
              "                                                     [key], {});\n",
              "          if (!dataTable) return;\n",
              "\n",
              "          const docLinkHtml = 'Like what you see? Visit the ' +\n",
              "            '<a target=\"_blank\" href=https://colab.research.google.com/notebooks/data_table.ipynb>data table notebook</a>'\n",
              "            + ' to learn more about interactive tables.';\n",
              "          element.innerHTML = '';\n",
              "          dataTable['output_type'] = 'display_data';\n",
              "          await google.colab.output.renderOutput(dataTable, element);\n",
              "          const docLink = document.createElement('div');\n",
              "          docLink.innerHTML = docLinkHtml;\n",
              "          element.appendChild(docLink);\n",
              "        }\n",
              "      </script>\n",
              "    </div>\n",
              "  </div>\n",
              "  "
            ],
            "text/plain": [
              "  neighbourhood_group  host_id\n",
              "0           Manhattan    16578\n",
              "1            Brooklyn    15966\n",
              "2              Queens     3983\n",
              "3               Bronx      789\n",
              "4       Staten Island      256"
            ]
          },
          "metadata": {},
          "execution_count": 21
        }
      ],
      "source": [
        "Number_host"
      ]
    },
    {
      "cell_type": "markdown",
      "metadata": {
        "id": "MeD4CQbXFQ0n"
      },
      "source": [
        "**Visualizing the Host Distribution**"
      ]
    },
    {
      "cell_type": "code",
      "execution_count": null,
      "metadata": {
        "id": "Hr8fK9mlEvl6",
        "colab": {
          "base_uri": "https://localhost:8080/",
          "height": 391
        },
        "outputId": "7c5a96c7-fcc9-4468-8133-453cc98f4cd5"
      },
      "outputs": [
        {
          "output_type": "display_data",
          "data": {
            "image/png": "[encoded data removed]",
            "text/plain": [
              "<Figure size 600x400 with 1 Axes>"
            ]
          },
          "metadata": {
            "needs_background": "light"
          }
        }
      ],
      "source": [
        "sns.reset_orig()\n",
        "plt.rcParams['figure.dpi'] = 100\n",
        "sns.barplot(data=Number_host, x=\"neighbourhood_group\", y=\"host_id\")\n",
        "plt.xlabel('')\n",
        "plt.ylabel('')\n",
        "plt.title('Hosts in City', size=15, color='#4f4e4e')\n",
        "plt.xticks(size=12, color='#4f4e4e')\n",
        "plt.yticks([], [])\n",
        "plt.text(x=2, y=16500, s='Manhattan has most host', color='#4f4e4e', fontsize=10, horizontalalignment='center')\n",
        "plt.text(x=0, y=800, s=Number_host.loc[0,'host_id'], color='black', fontsize=12, horizontalalignment='center')\n",
        "plt.text(x=1, y=800, s=Number_host.loc[1,'host_id'], color='black', fontsize=12, horizontalalignment='center')\n",
        "plt.text(x=2, y=800, s=Number_host.loc[2,'host_id'], color='black', fontsize=12, horizontalalignment='center')\n",
        "plt.text(x=3, y=800, s=Number_host.loc[3,'host_id'], color='black', fontsize=12, horizontalalignment='center')\n",
        "plt.text(x=4, y=800, s=Number_host.loc[4,'host_id'], color='black', fontsize=12, horizontalalignment='center')\n",
        "sns.despine(left=True);"
      ]
    },
    {
      "cell_type": "markdown",
      "metadata": {
        "id": "wyS_u_R9GOpS"
      },
      "source": [
        "\n",
        "*   **Manhattan has the most number of customer stays followed by Brooklyn**\n",
        "\n",
        "\n",
        "* **Most customer stays explains the high number of hosts Manhattan has.** \n",
        "\n",
        "*   **Most customer stays is direclty related to number of hosts each borough has.** "
      ]
    },
    {
      "cell_type": "markdown",
      "metadata": {
        "id": "0x1OyoMGx7ll"
      },
      "source": [
        "#**Top Neighbourhoods with most Listing**"
      ]
    },
    {
      "cell_type": "code",
      "execution_count": null,
      "metadata": {
        "id": "FsYB45Y0BRVD"
      },
      "outputs": [],
      "source": [
        "df_neighbour = df.neighbourhood.value_counts().reset_index() # Creating Dataframe for the Top neighbourhoods\n",
        "df_neighbour.columns = ['neighbourhood','count']"
      ]
    },
    {
      "cell_type": "code",
      "execution_count": null,
      "metadata": {
        "id": "UIJ8G55o15-F"
      },
      "outputs": [],
      "source": [
        "df_neighbour = pd.merge(df_neighbour,df[['neighbourhood_group','neighbourhood']].drop_duplicates(),on = 'neighbourhood',how ='left')"
      ]
    },
    {
      "cell_type": "code",
      "execution_count": null,
      "metadata": {
        "id": "F9WOPW3B2qsh",
        "colab": {
          "base_uri": "https://localhost:8080/",
          "height": 206
        },
        "outputId": "2d840162-8490-4962-9367-39f5cf29bb25"
      },
      "outputs": [
        {
          "output_type": "execute_result",
          "data": {
            "text/html": [
              "\n",
              "  <div id=\"df-175c0d3e-34e4-48b5-a968-372cb0095cfd\">\n",
              "    <div class=\"colab-df-container\">\n",
              "      <div>\n",
              "<style scoped>\n",
              "    .dataframe tbody tr th:only-of-type {\n",
              "        vertical-align: middle;\n",
              "    }\n",
              "\n",
              "    .dataframe tbody tr th {\n",
              "        vertical-align: top;\n",
              "    }\n",
              "\n",
              "    .dataframe thead th {\n",
              "        text-align: right;\n",
              "    }\n",
              "</style>\n",
              "<table border=\"1\" class=\"dataframe\">\n",
              "  <thead>\n",
              "    <tr style=\"text-align: right;\">\n",
              "      <th></th>\n",
              "      <th>neighbourhood</th>\n",
              "      <th>count</th>\n",
              "      <th>neighbourhood_group</th>\n",
              "    </tr>\n",
              "  </thead>\n",
              "  <tbody>\n",
              "    <tr>\n",
              "      <th>0</th>\n",
              "      <td>Williamsburg</td>\n",
              "      <td>3920</td>\n",
              "      <td>Brooklyn</td>\n",
              "    </tr>\n",
              "    <tr>\n",
              "      <th>1</th>\n",
              "      <td>Bedford-Stuyvesant</td>\n",
              "      <td>3714</td>\n",
              "      <td>Brooklyn</td>\n",
              "    </tr>\n",
              "    <tr>\n",
              "      <th>2</th>\n",
              "      <td>Harlem</td>\n",
              "      <td>2658</td>\n",
              "      <td>Manhattan</td>\n",
              "    </tr>\n",
              "    <tr>\n",
              "      <th>3</th>\n",
              "      <td>Bushwick</td>\n",
              "      <td>2465</td>\n",
              "      <td>Brooklyn</td>\n",
              "    </tr>\n",
              "    <tr>\n",
              "      <th>4</th>\n",
              "      <td>Upper West Side</td>\n",
              "      <td>1971</td>\n",
              "      <td>Manhattan</td>\n",
              "    </tr>\n",
              "  </tbody>\n",
              "</table>\n",
              "</div>\n",
              "      <button class=\"colab-df-convert\" onclick=\"convertToInteractive('df-175c0d3e-34e4-48b5-a968-372cb0095cfd')\"\n",
              "              title=\"Convert this dataframe to an interactive table.\"\n",
              "              style=\"display:none;\">\n",
              "        \n",
              "  <svg xmlns=\"http://www.w3.org/2000/svg\" height=\"24px\"viewBox=\"0 0 24 24\"\n",
              "       width=\"24px\">\n",
              "    <path d=\"M0 0h24v24H0V0z\" fill=\"none\"/>\n",
              "    <path d=\"M18.56 5.44l.94 2.06.94-2.06 2.06-.94-2.06-.94-.94-2.06-.94 2.06-2.06.94zm-11 1L8.5 8.5l.94-2.06 2.06-.94-2.06-.94L8.5 2.5l-.94 2.06-2.06.94zm10 10l.94 2.06.94-2.06 2.06-.94-2.06-.94-.94-2.06-.94 2.06-2.06.94z\"/><path d=\"M17.41 7.96l-1.37-1.37c-.4-.4-.92-.59-1.43-.59-.52 0-1.04.2-1.43.59L10.3 9.45l-7.72 7.72c-.78.78-.78 2.05 0 2.83L4 21.41c.39.39.9.59 1.41.59.51 0 1.02-.2 1.41-.59l7.78-7.78 2.81-2.81c.8-.78.8-2.07 0-2.86zM5.41 20L4 18.59l7.72-7.72 1.47 1.35L5.41 20z\"/>\n",
              "  </svg>\n",
              "      </button>\n",
              "      \n",
              "  <style>\n",
              "    .colab-df-container {\n",
              "      display:flex;\n",
              "      flex-wrap:wrap;\n",
              "      gap: 12px;\n",
              "    }\n",
              "\n",
              "    .colab-df-convert {\n",
              "      background-color: #E8F0FE;\n",
              "      border: none;\n",
              "      border-radius: 50%;\n",
              "      cursor: pointer;\n",
              "      display: none;\n",
              "      fill: #1967D2;\n",
              "      height: 32px;\n",
              "      padding: 0 0 0 0;\n",
              "      width: 32px;\n",
              "    }\n",
              "\n",
              "    .colab-df-convert:hover {\n",
              "      background-color: #E2EBFA;\n",
              "      box-shadow: 0px 1px 2px rgba(60, 64, 67, 0.3), 0px 1px 3px 1px rgba(60, 64, 67, 0.15);\n",
              "      fill: #174EA6;\n",
              "    }\n",
              "\n",
              "    [theme=dark] .colab-df-convert {\n",
              "      background-color: #3B4455;\n",
              "      fill: #D2E3FC;\n",
              "    }\n",
              "\n",
              "    [theme=dark] .colab-df-convert:hover {\n",
              "      background-color: #434B5C;\n",
              "      box-shadow: 0px 1px 3px 1px rgba(0, 0, 0, 0.15);\n",
              "      filter: drop-shadow(0px 1px 2px rgba(0, 0, 0, 0.3));\n",
              "      fill: #FFFFFF;\n",
              "    }\n",
              "  </style>\n",
              "\n",
              "      <script>\n",
              "        const buttonEl =\n",
              "          document.querySelector('#df-175c0d3e-34e4-48b5-a968-372cb0095cfd button.colab-df-convert');\n",
              "        buttonEl.style.display =\n",
              "          google.colab.kernel.accessAllowed ? 'block' : 'none';\n",
              "\n",
              "        async function convertToInteractive(key) {\n",
              "          const element = document.querySelector('#df-175c0d3e-34e4-48b5-a968-372cb0095cfd');\n",
              "          const dataTable =\n",
              "            await google.colab.kernel.invokeFunction('convertToInteractive',\n",
              "                                                     [key], {});\n",
              "          if (!dataTable) return;\n",
              "\n",
              "          const docLinkHtml = 'Like what you see? Visit the ' +\n",
              "            '<a target=\"_blank\" href=https://colab.research.google.com/notebooks/data_table.ipynb>data table notebook</a>'\n",
              "            + ' to learn more about interactive tables.';\n",
              "          element.innerHTML = '';\n",
              "          dataTable['output_type'] = 'display_data';\n",
              "          await google.colab.output.renderOutput(dataTable, element);\n",
              "          const docLink = document.createElement('div');\n",
              "          docLink.innerHTML = docLinkHtml;\n",
              "          element.appendChild(docLink);\n",
              "        }\n",
              "      </script>\n",
              "    </div>\n",
              "  </div>\n",
              "  "
            ],
            "text/plain": [
              "        neighbourhood  count neighbourhood_group\n",
              "0        Williamsburg   3920            Brooklyn\n",
              "1  Bedford-Stuyvesant   3714            Brooklyn\n",
              "2              Harlem   2658           Manhattan\n",
              "3            Bushwick   2465            Brooklyn\n",
              "4     Upper West Side   1971           Manhattan"
            ]
          },
          "metadata": {},
          "execution_count": 25
        }
      ],
      "source": [
        "df_neighbour.head()"
      ]
    },
    {
      "cell_type": "code",
      "execution_count": null,
      "metadata": {
        "id": "9FHW_Y5A2SdU",
        "colab": {
          "base_uri": "https://localhost:8080/",
          "height": 423
        },
        "outputId": "b0deed3c-1987-43af-8e74-f3c9fb3d1955"
      },
      "outputs": [
        {
          "output_type": "execute_result",
          "data": {
            "text/html": [
              "\n",
              "  <div id=\"df-f892de29-59bc-48be-a5ed-1eebf658536b\">\n",
              "    <div class=\"colab-df-container\">\n",
              "      <div>\n",
              "<style scoped>\n",
              "    .dataframe tbody tr th:only-of-type {\n",
              "        vertical-align: middle;\n",
              "    }\n",
              "\n",
              "    .dataframe tbody tr th {\n",
              "        vertical-align: top;\n",
              "    }\n",
              "\n",
              "    .dataframe thead th {\n",
              "        text-align: right;\n",
              "    }\n",
              "</style>\n",
              "<table border=\"1\" class=\"dataframe\">\n",
              "  <thead>\n",
              "    <tr style=\"text-align: right;\">\n",
              "      <th></th>\n",
              "      <th>neighbourhood</th>\n",
              "      <th>count</th>\n",
              "      <th>neighbourhood_group</th>\n",
              "    </tr>\n",
              "  </thead>\n",
              "  <tbody>\n",
              "    <tr>\n",
              "      <th>0</th>\n",
              "      <td>Williamsburg</td>\n",
              "      <td>3920</td>\n",
              "      <td>Brooklyn</td>\n",
              "    </tr>\n",
              "    <tr>\n",
              "      <th>1</th>\n",
              "      <td>Bedford-Stuyvesant</td>\n",
              "      <td>3714</td>\n",
              "      <td>Brooklyn</td>\n",
              "    </tr>\n",
              "    <tr>\n",
              "      <th>2</th>\n",
              "      <td>Harlem</td>\n",
              "      <td>2658</td>\n",
              "      <td>Manhattan</td>\n",
              "    </tr>\n",
              "    <tr>\n",
              "      <th>3</th>\n",
              "      <td>Bushwick</td>\n",
              "      <td>2465</td>\n",
              "      <td>Brooklyn</td>\n",
              "    </tr>\n",
              "    <tr>\n",
              "      <th>4</th>\n",
              "      <td>Upper West Side</td>\n",
              "      <td>1971</td>\n",
              "      <td>Manhattan</td>\n",
              "    </tr>\n",
              "    <tr>\n",
              "      <th>...</th>\n",
              "      <td>...</td>\n",
              "      <td>...</td>\n",
              "      <td>...</td>\n",
              "    </tr>\n",
              "    <tr>\n",
              "      <th>216</th>\n",
              "      <td>Fort Wadsworth</td>\n",
              "      <td>1</td>\n",
              "      <td>Staten Island</td>\n",
              "    </tr>\n",
              "    <tr>\n",
              "      <th>217</th>\n",
              "      <td>Richmondtown</td>\n",
              "      <td>1</td>\n",
              "      <td>Staten Island</td>\n",
              "    </tr>\n",
              "    <tr>\n",
              "      <th>218</th>\n",
              "      <td>New Dorp</td>\n",
              "      <td>1</td>\n",
              "      <td>Staten Island</td>\n",
              "    </tr>\n",
              "    <tr>\n",
              "      <th>219</th>\n",
              "      <td>Rossville</td>\n",
              "      <td>1</td>\n",
              "      <td>Staten Island</td>\n",
              "    </tr>\n",
              "    <tr>\n",
              "      <th>220</th>\n",
              "      <td>Willowbrook</td>\n",
              "      <td>1</td>\n",
              "      <td>Staten Island</td>\n",
              "    </tr>\n",
              "  </tbody>\n",
              "</table>\n",
              "<p>221 rows × 3 columns</p>\n",
              "</div>\n",
              "      <button class=\"colab-df-convert\" onclick=\"convertToInteractive('df-f892de29-59bc-48be-a5ed-1eebf658536b')\"\n",
              "              title=\"Convert this dataframe to an interactive table.\"\n",
              "              style=\"display:none;\">\n",
              "        \n",
              "  <svg xmlns=\"http://www.w3.org/2000/svg\" height=\"24px\"viewBox=\"0 0 24 24\"\n",
              "       width=\"24px\">\n",
              "    <path d=\"M0 0h24v24H0V0z\" fill=\"none\"/>\n",
              "    <path d=\"M18.56 5.44l.94 2.06.94-2.06 2.06-.94-2.06-.94-.94-2.06-.94 2.06-2.06.94zm-11 1L8.5 8.5l.94-2.06 2.06-.94-2.06-.94L8.5 2.5l-.94 2.06-2.06.94zm10 10l.94 2.06.94-2.06 2.06-.94-2.06-.94-.94-2.06-.94 2.06-2.06.94z\"/><path d=\"M17.41 7.96l-1.37-1.37c-.4-.4-.92-.59-1.43-.59-.52 0-1.04.2-1.43.59L10.3 9.45l-7.72 7.72c-.78.78-.78 2.05 0 2.83L4 21.41c.39.39.9.59 1.41.59.51 0 1.02-.2 1.41-.59l7.78-7.78 2.81-2.81c.8-.78.8-2.07 0-2.86zM5.41 20L4 18.59l7.72-7.72 1.47 1.35L5.41 20z\"/>\n",
              "  </svg>\n",
              "      </button>\n",
              "      \n",
              "  <style>\n",
              "    .colab-df-container {\n",
              "      display:flex;\n",
              "      flex-wrap:wrap;\n",
              "      gap: 12px;\n",
              "    }\n",
              "\n",
              "    .colab-df-convert {\n",
              "      background-color: #E8F0FE;\n",
              "      border: none;\n",
              "      border-radius: 50%;\n",
              "      cursor: pointer;\n",
              "      display: none;\n",
              "      fill: #1967D2;\n",
              "      height: 32px;\n",
              "      padding: 0 0 0 0;\n",
              "      width: 32px;\n",
              "    }\n",
              "\n",
              "    .colab-df-convert:hover {\n",
              "      background-color: #E2EBFA;\n",
              "      box-shadow: 0px 1px 2px rgba(60, 64, 67, 0.3), 0px 1px 3px 1px rgba(60, 64, 67, 0.15);\n",
              "      fill: #174EA6;\n",
              "    }\n",
              "\n",
              "    [theme=dark] .colab-df-convert {\n",
              "      background-color: #3B4455;\n",
              "      fill: #D2E3FC;\n",
              "    }\n",
              "\n",
              "    [theme=dark] .colab-df-convert:hover {\n",
              "      background-color: #434B5C;\n",
              "      box-shadow: 0px 1px 3px 1px rgba(0, 0, 0, 0.15);\n",
              "      filter: drop-shadow(0px 1px 2px rgba(0, 0, 0, 0.3));\n",
              "      fill: #FFFFFF;\n",
              "    }\n",
              "  </style>\n",
              "\n",
              "      <script>\n",
              "        const buttonEl =\n",
              "          document.querySelector('#df-f892de29-59bc-48be-a5ed-1eebf658536b button.colab-df-convert');\n",
              "        buttonEl.style.display =\n",
              "          google.colab.kernel.accessAllowed ? 'block' : 'none';\n",
              "\n",
              "        async function convertToInteractive(key) {\n",
              "          const element = document.querySelector('#df-f892de29-59bc-48be-a5ed-1eebf658536b');\n",
              "          const dataTable =\n",
              "            await google.colab.kernel.invokeFunction('convertToInteractive',\n",
              "                                                     [key], {});\n",
              "          if (!dataTable) return;\n",
              "\n",
              "          const docLinkHtml = 'Like what you see? Visit the ' +\n",
              "            '<a target=\"_blank\" href=https://colab.research.google.com/notebooks/data_table.ipynb>data table notebook</a>'\n",
              "            + ' to learn more about interactive tables.';\n",
              "          element.innerHTML = '';\n",
              "          dataTable['output_type'] = 'display_data';\n",
              "          await google.colab.output.renderOutput(dataTable, element);\n",
              "          const docLink = document.createElement('div');\n",
              "          docLink.innerHTML = docLinkHtml;\n",
              "          element.appendChild(docLink);\n",
              "        }\n",
              "      </script>\n",
              "    </div>\n",
              "  </div>\n",
              "  "
            ],
            "text/plain": [
              "          neighbourhood  count neighbourhood_group\n",
              "0          Williamsburg   3920            Brooklyn\n",
              "1    Bedford-Stuyvesant   3714            Brooklyn\n",
              "2                Harlem   2658           Manhattan\n",
              "3              Bushwick   2465            Brooklyn\n",
              "4       Upper West Side   1971           Manhattan\n",
              "..                  ...    ...                 ...\n",
              "216      Fort Wadsworth      1       Staten Island\n",
              "217        Richmondtown      1       Staten Island\n",
              "218            New Dorp      1       Staten Island\n",
              "219           Rossville      1       Staten Island\n",
              "220         Willowbrook      1       Staten Island\n",
              "\n",
              "[221 rows x 3 columns]"
            ]
          },
          "metadata": {},
          "execution_count": 26
        }
      ],
      "source": [
        "df_neighbour"
      ]
    },
    {
      "cell_type": "code",
      "execution_count": null,
      "metadata": {
        "id": "0jVZqAuVBd5q",
        "colab": {
          "base_uri": "https://localhost:8080/",
          "height": 381
        },
        "outputId": "2b667630-d58a-4d03-de09-fe57ea38ed28"
      },
      "outputs": [
        {
          "output_type": "display_data",
          "data": {
            "image/png": "[encoded data removed]",
            "text/plain": [
              "<Figure size 600x400 with 1 Axes>"
            ]
          },
          "metadata": {}
        }
      ],
      "source": [
        "#Visualizing the created dataframe\n",
        "sns.set_style(\"whitegrid\")\n",
        "sns.barplot (data = df_neighbour.head(),x = 'neighbourhood',y = 'count')\n",
        "plt.title('Neighbourhood with Top bookings',size = 12,color = '#4f4e4e')\n",
        "plt.xlabel('')\n",
        "plt.ylabel('')\n",
        "plt.yticks([],[])\n",
        "plt.xticks(size=8, color='#4f4e4e')\n",
        "plt.text(x=0, y=10, s=df_neighbour.loc[0,'count'], color='black', fontsize=12, horizontalalignment='center')\n",
        "plt.text(x=1, y=10, s=df_neighbour.loc[1,'count'], color='black', fontsize=12, horizontalalignment='center')\n",
        "plt.text(x=2, y=10, s=df_neighbour.loc[2,'count'], color='black', fontsize=12, horizontalalignment='center')\n",
        "plt.text(x=3, y=10, s=df_neighbour.loc[3,'count'], color='black', fontsize=12, horizontalalignment='center')\n",
        "plt.text(x=4, y=10, s=df_neighbour.loc[4,'count'], color='black', fontsize=12, horizontalalignment='center')\n",
        "sns.despine(left=True);"
      ]
    },
    {
      "cell_type": "markdown",
      "metadata": {
        "id": "AjszEO0cyNQj"
      },
      "source": [
        "**Willamsburg** and **Bedfor-Stuyvesant** are the top neighbourhoods with most bookings"
      ]
    },
    {
      "cell_type": "markdown",
      "metadata": {
        "id": "z5pj2hd2Iph4"
      },
      "source": [
        "#**What kind of Room each boroughs has to offer**"
      ]
    },
    {
      "cell_type": "code",
      "execution_count": null,
      "metadata": {
        "id": "IMTeo9xwFENW"
      },
      "outputs": [],
      "source": [
        "#creating Dataframe with by grouping the room_types, neighbourhood_group\n",
        "Room_types = pd.DataFrame(df[['host_id','room_type','neighbourhood_group']].groupby(['neighbourhood_group','room_type']).host_id.count()).reset_index()"
      ]
    },
    {
      "cell_type": "code",
      "execution_count": null,
      "metadata": {
        "id": "opi-WrmuJXak",
        "colab": {
          "base_uri": "https://localhost:8080/",
          "height": 520
        },
        "outputId": "cc25ed36-1df1-4c6a-e240-75089c2022f5"
      },
      "outputs": [
        {
          "output_type": "execute_result",
          "data": {
            "text/html": [
              "\n",
              "  <div id=\"df-27ac75e4-bfaa-4ae3-b546-a70819bdc215\">\n",
              "    <div class=\"colab-df-container\">\n",
              "      <div>\n",
              "<style scoped>\n",
              "    .dataframe tbody tr th:only-of-type {\n",
              "        vertical-align: middle;\n",
              "    }\n",
              "\n",
              "    .dataframe tbody tr th {\n",
              "        vertical-align: top;\n",
              "    }\n",
              "\n",
              "    .dataframe thead th {\n",
              "        text-align: right;\n",
              "    }\n",
              "</style>\n",
              "<table border=\"1\" class=\"dataframe\">\n",
              "  <thead>\n",
              "    <tr style=\"text-align: right;\">\n",
              "      <th></th>\n",
              "      <th>neighbourhood_group</th>\n",
              "      <th>room_type</th>\n",
              "      <th>host_id</th>\n",
              "    </tr>\n",
              "  </thead>\n",
              "  <tbody>\n",
              "    <tr>\n",
              "      <th>6</th>\n",
              "      <td>Manhattan</td>\n",
              "      <td>Entire home/apt</td>\n",
              "      <td>13199</td>\n",
              "    </tr>\n",
              "    <tr>\n",
              "      <th>4</th>\n",
              "      <td>Brooklyn</td>\n",
              "      <td>Private room</td>\n",
              "      <td>10132</td>\n",
              "    </tr>\n",
              "    <tr>\n",
              "      <th>3</th>\n",
              "      <td>Brooklyn</td>\n",
              "      <td>Entire home/apt</td>\n",
              "      <td>9559</td>\n",
              "    </tr>\n",
              "    <tr>\n",
              "      <th>7</th>\n",
              "      <td>Manhattan</td>\n",
              "      <td>Private room</td>\n",
              "      <td>7982</td>\n",
              "    </tr>\n",
              "    <tr>\n",
              "      <th>10</th>\n",
              "      <td>Queens</td>\n",
              "      <td>Private room</td>\n",
              "      <td>3372</td>\n",
              "    </tr>\n",
              "    <tr>\n",
              "      <th>9</th>\n",
              "      <td>Queens</td>\n",
              "      <td>Entire home/apt</td>\n",
              "      <td>2096</td>\n",
              "    </tr>\n",
              "    <tr>\n",
              "      <th>1</th>\n",
              "      <td>Bronx</td>\n",
              "      <td>Private room</td>\n",
              "      <td>652</td>\n",
              "    </tr>\n",
              "    <tr>\n",
              "      <th>8</th>\n",
              "      <td>Manhattan</td>\n",
              "      <td>Shared room</td>\n",
              "      <td>480</td>\n",
              "    </tr>\n",
              "    <tr>\n",
              "      <th>5</th>\n",
              "      <td>Brooklyn</td>\n",
              "      <td>Shared room</td>\n",
              "      <td>413</td>\n",
              "    </tr>\n",
              "    <tr>\n",
              "      <th>0</th>\n",
              "      <td>Bronx</td>\n",
              "      <td>Entire home/apt</td>\n",
              "      <td>379</td>\n",
              "    </tr>\n",
              "    <tr>\n",
              "      <th>11</th>\n",
              "      <td>Queens</td>\n",
              "      <td>Shared room</td>\n",
              "      <td>198</td>\n",
              "    </tr>\n",
              "    <tr>\n",
              "      <th>13</th>\n",
              "      <td>Staten Island</td>\n",
              "      <td>Private room</td>\n",
              "      <td>188</td>\n",
              "    </tr>\n",
              "    <tr>\n",
              "      <th>12</th>\n",
              "      <td>Staten Island</td>\n",
              "      <td>Entire home/apt</td>\n",
              "      <td>176</td>\n",
              "    </tr>\n",
              "    <tr>\n",
              "      <th>2</th>\n",
              "      <td>Bronx</td>\n",
              "      <td>Shared room</td>\n",
              "      <td>60</td>\n",
              "    </tr>\n",
              "    <tr>\n",
              "      <th>14</th>\n",
              "      <td>Staten Island</td>\n",
              "      <td>Shared room</td>\n",
              "      <td>9</td>\n",
              "    </tr>\n",
              "  </tbody>\n",
              "</table>\n",
              "</div>\n",
              "      <button class=\"colab-df-convert\" onclick=\"convertToInteractive('df-27ac75e4-bfaa-4ae3-b546-a70819bdc215')\"\n",
              "              title=\"Convert this dataframe to an interactive table.\"\n",
              "              style=\"display:none;\">\n",
              "        \n",
              "  <svg xmlns=\"http://www.w3.org/2000/svg\" height=\"24px\"viewBox=\"0 0 24 24\"\n",
              "       width=\"24px\">\n",
              "    <path d=\"M0 0h24v24H0V0z\" fill=\"none\"/>\n",
              "    <path d=\"M18.56 5.44l.94 2.06.94-2.06 2.06-.94-2.06-.94-.94-2.06-.94 2.06-2.06.94zm-11 1L8.5 8.5l.94-2.06 2.06-.94-2.06-.94L8.5 2.5l-.94 2.06-2.06.94zm10 10l.94 2.06.94-2.06 2.06-.94-2.06-.94-.94-2.06-.94 2.06-2.06.94z\"/><path d=\"M17.41 7.96l-1.37-1.37c-.4-.4-.92-.59-1.43-.59-.52 0-1.04.2-1.43.59L10.3 9.45l-7.72 7.72c-.78.78-.78 2.05 0 2.83L4 21.41c.39.39.9.59 1.41.59.51 0 1.02-.2 1.41-.59l7.78-7.78 2.81-2.81c.8-.78.8-2.07 0-2.86zM5.41 20L4 18.59l7.72-7.72 1.47 1.35L5.41 20z\"/>\n",
              "  </svg>\n",
              "      </button>\n",
              "      \n",
              "  <style>\n",
              "    .colab-df-container {\n",
              "      display:flex;\n",
              "      flex-wrap:wrap;\n",
              "      gap: 12px;\n",
              "    }\n",
              "\n",
              "    .colab-df-convert {\n",
              "      background-color: #E8F0FE;\n",
              "      border: none;\n",
              "      border-radius: 50%;\n",
              "      cursor: pointer;\n",
              "      display: none;\n",
              "      fill: #1967D2;\n",
              "      height: 32px;\n",
              "      padding: 0 0 0 0;\n",
              "      width: 32px;\n",
              "    }\n",
              "\n",
              "    .colab-df-convert:hover {\n",
              "      background-color: #E2EBFA;\n",
              "      box-shadow: 0px 1px 2px rgba(60, 64, 67, 0.3), 0px 1px 3px 1px rgba(60, 64, 67, 0.15);\n",
              "      fill: #174EA6;\n",
              "    }\n",
              "\n",
              "    [theme=dark] .colab-df-convert {\n",
              "      background-color: #3B4455;\n",
              "      fill: #D2E3FC;\n",
              "    }\n",
              "\n",
              "    [theme=dark] .colab-df-convert:hover {\n",
              "      background-color: #434B5C;\n",
              "      box-shadow: 0px 1px 3px 1px rgba(0, 0, 0, 0.15);\n",
              "      filter: drop-shadow(0px 1px 2px rgba(0, 0, 0, 0.3));\n",
              "      fill: #FFFFFF;\n",
              "    }\n",
              "  </style>\n",
              "\n",
              "      <script>\n",
              "        const buttonEl =\n",
              "          document.querySelector('#df-27ac75e4-bfaa-4ae3-b546-a70819bdc215 button.colab-df-convert');\n",
              "        buttonEl.style.display =\n",
              "          google.colab.kernel.accessAllowed ? 'block' : 'none';\n",
              "\n",
              "        async function convertToInteractive(key) {\n",
              "          const element = document.querySelector('#df-27ac75e4-bfaa-4ae3-b546-a70819bdc215');\n",
              "          const dataTable =\n",
              "            await google.colab.kernel.invokeFunction('convertToInteractive',\n",
              "                                                     [key], {});\n",
              "          if (!dataTable) return;\n",
              "\n",
              "          const docLinkHtml = 'Like what you see? Visit the ' +\n",
              "            '<a target=\"_blank\" href=https://colab.research.google.com/notebooks/data_table.ipynb>data table notebook</a>'\n",
              "            + ' to learn more about interactive tables.';\n",
              "          element.innerHTML = '';\n",
              "          dataTable['output_type'] = 'display_data';\n",
              "          await google.colab.output.renderOutput(dataTable, element);\n",
              "          const docLink = document.createElement('div');\n",
              "          docLink.innerHTML = docLinkHtml;\n",
              "          element.appendChild(docLink);\n",
              "        }\n",
              "      </script>\n",
              "    </div>\n",
              "  </div>\n",
              "  "
            ],
            "text/plain": [
              "   neighbourhood_group        room_type  host_id\n",
              "6            Manhattan  Entire home/apt    13199\n",
              "4             Brooklyn     Private room    10132\n",
              "3             Brooklyn  Entire home/apt     9559\n",
              "7            Manhattan     Private room     7982\n",
              "10              Queens     Private room     3372\n",
              "9               Queens  Entire home/apt     2096\n",
              "1                Bronx     Private room      652\n",
              "8            Manhattan      Shared room      480\n",
              "5             Brooklyn      Shared room      413\n",
              "0                Bronx  Entire home/apt      379\n",
              "11              Queens      Shared room      198\n",
              "13       Staten Island     Private room      188\n",
              "12       Staten Island  Entire home/apt      176\n",
              "2                Bronx      Shared room       60\n",
              "14       Staten Island      Shared room        9"
            ]
          },
          "metadata": {},
          "execution_count": 29
        }
      ],
      "source": [
        "Room_types.sort_values('host_id',ascending = False)"
      ]
    },
    {
      "cell_type": "code",
      "execution_count": null,
      "metadata": {
        "id": "y4W-Gf1VI7An",
        "colab": {
          "base_uri": "https://localhost:8080/",
          "height": 391
        },
        "outputId": "d914deff-8b97-4855-f0de-d439969dec43"
      },
      "outputs": [
        {
          "output_type": "display_data",
          "data": {
            "image/png": "[encoded data removed]",
            "text/plain": [
              "<Figure size 600x400 with 1 Axes>"
            ]
          },
          "metadata": {}
        }
      ],
      "source": [
        "# Visualizing the types of room each Boroughs has to offer.\n",
        "# Manhattan has the most bookings of Entier Home, and brooklyn has most booking of Private room\n",
        "\n",
        "sns.barplot(data=Room_types, x=\"neighbourhood_group\", y=\"host_id\", palette= 'rocket',hue ='room_type')\n",
        "plt.xlabel('')\n",
        "plt.ylabel('')\n",
        "plt.yticks([],[])\n",
        "plt.title('Different Room Types', size=15, color='#4f4e4e')\n",
        "plt.legend(loc=\"upper right\", frameon=False, fontsize= 8)\n",
        "plt.xticks(size=12, color='#4f4e4e')\n",
        "sns.despine(left = True);"
      ]
    },
    {
      "cell_type": "markdown",
      "metadata": {
        "id": "pV10D5Iuy2XV"
      },
      "source": [
        "**Manhattan** leads the group with the most rooms bookings, Cutomer prefer **Entire room** in Manhattan more than the **Private room**.\n",
        "\n",
        "Customer in Brooklyn prefert **Private rooms** more than the **Entire rooms**"
      ]
    },
    {
      "cell_type": "markdown",
      "metadata": {
        "id": "UMkMatXlDSPb"
      },
      "source": [
        "#**Top Hosts**"
      ]
    },
    {
      "cell_type": "code",
      "execution_count": null,
      "metadata": {
        "id": "DgSQdCvOJMWJ",
        "colab": {
          "base_uri": "https://localhost:8080/",
          "height": 385
        },
        "outputId": "28e82a7e-53a3-4b5f-b379-ccd153a76d0a"
      },
      "outputs": [
        {
          "output_type": "display_data",
          "data": {
            "image/png": "[encoded data removed]",
            "text/plain": [
              "<Figure size 600x400 with 1 Axes>"
            ]
          },
          "metadata": {}
        }
      ],
      "source": [
        "Top_host = df.host_id.value_counts().to_frame().reset_index().head() # creating the dateframe for top host\n",
        "\n",
        "\n",
        "#barplot Visualizing of host\n",
        "sns.set_style(\"darkgrid\")\n",
        "sns.barplot(data= Top_host, x=\"index\", y=\"host_id\")\n",
        "plt.xlabel('')\n",
        "plt.ylabel('')\n",
        "plt.title('Top Host', size=12, color='#4f4e4e')\n",
        "plt.xticks(size=10, color='#4f4e4e',rotation = 0)\n",
        "plt.yticks([], [])\n",
        "plt.text(x=0, y=2, s=Top_host.loc[4,'host_id'], color='black', fontsize=12, horizontalalignment='center')\n",
        "plt.text(x=1, y=2, s=Top_host.loc[2,'host_id'], color='black', fontsize=12, horizontalalignment='center')\n",
        "plt.text(x=2, y=2, s=Top_host.loc[1,'host_id'], color='black', fontsize=12, horizontalalignment='center')\n",
        "plt.text(x=3, y=2, s=Top_host.loc[3,'host_id'], color='black', fontsize=12, horizontalalignment='center')\n",
        "plt.text(x=4, y=2, s=Top_host.loc[0,'host_id'], color='black', fontsize=12, horizontalalignment='center')\n",
        "sns.despine(left = True);"
      ]
    },
    {
      "cell_type": "markdown",
      "metadata": {
        "id": "8bjUe0S-NYTY"
      },
      "source": [
        "**Host,Sonder(NYC) with Host_id 219517861 has hosted most customers**\n",
        "**Host, Blueground is the second with total 232 customers**"
      ]
    },
    {
      "cell_type": "code",
      "execution_count": null,
      "metadata": {
        "id": "8NcikbrYMPZi",
        "colab": {
          "base_uri": "https://localhost:8080/",
          "height": 1000
        },
        "outputId": "25d18e51-ced1-4574-bec6-81e5f488d071"
      },
      "outputs": [
        {
          "output_type": "execute_result",
          "data": {
            "text/html": [
              "\n",
              "  <div id=\"df-5067f234-ab09-4f4a-be0b-1b61b95f2ad4\">\n",
              "    <div class=\"colab-df-container\">\n",
              "      <div>\n",
              "<style scoped>\n",
              "    .dataframe tbody tr th:only-of-type {\n",
              "        vertical-align: middle;\n",
              "    }\n",
              "\n",
              "    .dataframe tbody tr th {\n",
              "        vertical-align: top;\n",
              "    }\n",
              "\n",
              "    .dataframe thead th {\n",
              "        text-align: right;\n",
              "    }\n",
              "</style>\n",
              "<table border=\"1\" class=\"dataframe\">\n",
              "  <thead>\n",
              "    <tr style=\"text-align: right;\">\n",
              "      <th></th>\n",
              "      <th>id</th>\n",
              "      <th>name</th>\n",
              "      <th>host_id</th>\n",
              "      <th>host_name</th>\n",
              "      <th>neighbourhood_group</th>\n",
              "      <th>neighbourhood</th>\n",
              "      <th>latitude</th>\n",
              "      <th>longitude</th>\n",
              "      <th>room_type</th>\n",
              "      <th>price</th>\n",
              "      <th>minimum_nights</th>\n",
              "      <th>number_of_reviews</th>\n",
              "      <th>reviews_per_month</th>\n",
              "      <th>calculated_host_listings_count</th>\n",
              "      <th>availability_365</th>\n",
              "    </tr>\n",
              "  </thead>\n",
              "  <tbody>\n",
              "    <tr>\n",
              "      <th>38293</th>\n",
              "      <td>30181691</td>\n",
              "      <td>Sonder | 180 Water | Incredible 2BR + Rooftop</td>\n",
              "      <td>219517861</td>\n",
              "      <td>Sonder (NYC)</td>\n",
              "      <td>Manhattan</td>\n",
              "      <td>Financial District</td>\n",
              "      <td>40.70637</td>\n",
              "      <td>-74.00645</td>\n",
              "      <td>Entire home/apt</td>\n",
              "      <td>302</td>\n",
              "      <td>29</td>\n",
              "      <td>0</td>\n",
              "      <td>0.00</td>\n",
              "      <td>327</td>\n",
              "      <td>309</td>\n",
              "    </tr>\n",
              "    <tr>\n",
              "      <th>38294</th>\n",
              "      <td>30181945</td>\n",
              "      <td>Sonder | 180 Water | Premier 1BR + Rooftop</td>\n",
              "      <td>219517861</td>\n",
              "      <td>Sonder (NYC)</td>\n",
              "      <td>Manhattan</td>\n",
              "      <td>Financial District</td>\n",
              "      <td>40.70771</td>\n",
              "      <td>-74.00641</td>\n",
              "      <td>Entire home/apt</td>\n",
              "      <td>229</td>\n",
              "      <td>29</td>\n",
              "      <td>1</td>\n",
              "      <td>0.73</td>\n",
              "      <td>327</td>\n",
              "      <td>219</td>\n",
              "    </tr>\n",
              "    <tr>\n",
              "      <th>38588</th>\n",
              "      <td>30347708</td>\n",
              "      <td>Sonder | 180 Water | Charming 1BR + Rooftop</td>\n",
              "      <td>219517861</td>\n",
              "      <td>Sonder (NYC)</td>\n",
              "      <td>Manhattan</td>\n",
              "      <td>Financial District</td>\n",
              "      <td>40.70743</td>\n",
              "      <td>-74.00443</td>\n",
              "      <td>Entire home/apt</td>\n",
              "      <td>232</td>\n",
              "      <td>29</td>\n",
              "      <td>1</td>\n",
              "      <td>0.60</td>\n",
              "      <td>327</td>\n",
              "      <td>159</td>\n",
              "    </tr>\n",
              "    <tr>\n",
              "      <th>39769</th>\n",
              "      <td>30937590</td>\n",
              "      <td>Sonder | The Nash | Artsy 1BR + Rooftop</td>\n",
              "      <td>219517861</td>\n",
              "      <td>Sonder (NYC)</td>\n",
              "      <td>Manhattan</td>\n",
              "      <td>Murray Hill</td>\n",
              "      <td>40.74792</td>\n",
              "      <td>-73.97614</td>\n",
              "      <td>Entire home/apt</td>\n",
              "      <td>262</td>\n",
              "      <td>2</td>\n",
              "      <td>8</td>\n",
              "      <td>1.86</td>\n",
              "      <td>327</td>\n",
              "      <td>91</td>\n",
              "    </tr>\n",
              "    <tr>\n",
              "      <th>39770</th>\n",
              "      <td>30937591</td>\n",
              "      <td>Sonder | The Nash | Lovely Studio + Rooftop</td>\n",
              "      <td>219517861</td>\n",
              "      <td>Sonder (NYC)</td>\n",
              "      <td>Manhattan</td>\n",
              "      <td>Murray Hill</td>\n",
              "      <td>40.74771</td>\n",
              "      <td>-73.97528</td>\n",
              "      <td>Entire home/apt</td>\n",
              "      <td>255</td>\n",
              "      <td>2</td>\n",
              "      <td>14</td>\n",
              "      <td>2.59</td>\n",
              "      <td>327</td>\n",
              "      <td>81</td>\n",
              "    </tr>\n",
              "    <tr>\n",
              "      <th>...</th>\n",
              "      <td>...</td>\n",
              "      <td>...</td>\n",
              "      <td>...</td>\n",
              "      <td>...</td>\n",
              "      <td>...</td>\n",
              "      <td>...</td>\n",
              "      <td>...</td>\n",
              "      <td>...</td>\n",
              "      <td>...</td>\n",
              "      <td>...</td>\n",
              "      <td>...</td>\n",
              "      <td>...</td>\n",
              "      <td>...</td>\n",
              "      <td>...</td>\n",
              "      <td>...</td>\n",
              "    </tr>\n",
              "    <tr>\n",
              "      <th>47691</th>\n",
              "      <td>35871510</td>\n",
              "      <td>Sonder | 116 John | Vibrant Studio + Fitness Room</td>\n",
              "      <td>219517861</td>\n",
              "      <td>Sonder (NYC)</td>\n",
              "      <td>Manhattan</td>\n",
              "      <td>Financial District</td>\n",
              "      <td>40.70818</td>\n",
              "      <td>-74.00631</td>\n",
              "      <td>Entire home/apt</td>\n",
              "      <td>135</td>\n",
              "      <td>29</td>\n",
              "      <td>0</td>\n",
              "      <td>0.00</td>\n",
              "      <td>327</td>\n",
              "      <td>339</td>\n",
              "    </tr>\n",
              "    <tr>\n",
              "      <th>47692</th>\n",
              "      <td>35871511</td>\n",
              "      <td>Sonder | 116 John | Vibrant 1BR + Fitness Room</td>\n",
              "      <td>219517861</td>\n",
              "      <td>Sonder (NYC)</td>\n",
              "      <td>Manhattan</td>\n",
              "      <td>Financial District</td>\n",
              "      <td>40.70691</td>\n",
              "      <td>-74.00682</td>\n",
              "      <td>Entire home/apt</td>\n",
              "      <td>165</td>\n",
              "      <td>29</td>\n",
              "      <td>0</td>\n",
              "      <td>0.00</td>\n",
              "      <td>327</td>\n",
              "      <td>342</td>\n",
              "    </tr>\n",
              "    <tr>\n",
              "      <th>47693</th>\n",
              "      <td>35871515</td>\n",
              "      <td>Sonder | 116 John | Stunning 1BR + Rooftop</td>\n",
              "      <td>219517861</td>\n",
              "      <td>Sonder (NYC)</td>\n",
              "      <td>Manhattan</td>\n",
              "      <td>Financial District</td>\n",
              "      <td>40.70772</td>\n",
              "      <td>-74.00673</td>\n",
              "      <td>Entire home/apt</td>\n",
              "      <td>165</td>\n",
              "      <td>29</td>\n",
              "      <td>0</td>\n",
              "      <td>0.00</td>\n",
              "      <td>327</td>\n",
              "      <td>347</td>\n",
              "    </tr>\n",
              "    <tr>\n",
              "      <th>47814</th>\n",
              "      <td>35936418</td>\n",
              "      <td>Sonder | 116 John | Polished Studio + Gym</td>\n",
              "      <td>219517861</td>\n",
              "      <td>Sonder (NYC)</td>\n",
              "      <td>Manhattan</td>\n",
              "      <td>Financial District</td>\n",
              "      <td>40.70840</td>\n",
              "      <td>-74.00518</td>\n",
              "      <td>Entire home/apt</td>\n",
              "      <td>699</td>\n",
              "      <td>29</td>\n",
              "      <td>0</td>\n",
              "      <td>0.00</td>\n",
              "      <td>327</td>\n",
              "      <td>327</td>\n",
              "    </tr>\n",
              "    <tr>\n",
              "      <th>47821</th>\n",
              "      <td>35937891</td>\n",
              "      <td>Sonder | 116 John | Simple Studio + Gym</td>\n",
              "      <td>219517861</td>\n",
              "      <td>Sonder (NYC)</td>\n",
              "      <td>Manhattan</td>\n",
              "      <td>Financial District</td>\n",
              "      <td>40.70707</td>\n",
              "      <td>-74.00557</td>\n",
              "      <td>Entire home/apt</td>\n",
              "      <td>699</td>\n",
              "      <td>29</td>\n",
              "      <td>0</td>\n",
              "      <td>0.00</td>\n",
              "      <td>327</td>\n",
              "      <td>341</td>\n",
              "    </tr>\n",
              "  </tbody>\n",
              "</table>\n",
              "<p>327 rows × 15 columns</p>\n",
              "</div>\n",
              "      <button class=\"colab-df-convert\" onclick=\"convertToInteractive('df-5067f234-ab09-4f4a-be0b-1b61b95f2ad4')\"\n",
              "              title=\"Convert this dataframe to an interactive table.\"\n",
              "              style=\"display:none;\">\n",
              "        \n",
              "  <svg xmlns=\"http://www.w3.org/2000/svg\" height=\"24px\"viewBox=\"0 0 24 24\"\n",
              "       width=\"24px\">\n",
              "    <path d=\"M0 0h24v24H0V0z\" fill=\"none\"/>\n",
              "    <path d=\"M18.56 5.44l.94 2.06.94-2.06 2.06-.94-2.06-.94-.94-2.06-.94 2.06-2.06.94zm-11 1L8.5 8.5l.94-2.06 2.06-.94-2.06-.94L8.5 2.5l-.94 2.06-2.06.94zm10 10l.94 2.06.94-2.06 2.06-.94-2.06-.94-.94-2.06-.94 2.06-2.06.94z\"/><path d=\"M17.41 7.96l-1.37-1.37c-.4-.4-.92-.59-1.43-.59-.52 0-1.04.2-1.43.59L10.3 9.45l-7.72 7.72c-.78.78-.78 2.05 0 2.83L4 21.41c.39.39.9.59 1.41.59.51 0 1.02-.2 1.41-.59l7.78-7.78 2.81-2.81c.8-.78.8-2.07 0-2.86zM5.41 20L4 18.59l7.72-7.72 1.47 1.35L5.41 20z\"/>\n",
              "  </svg>\n",
              "      </button>\n",
              "      \n",
              "  <style>\n",
              "    .colab-df-container {\n",
              "      display:flex;\n",
              "      flex-wrap:wrap;\n",
              "      gap: 12px;\n",
              "    }\n",
              "\n",
              "    .colab-df-convert {\n",
              "      background-color: #E8F0FE;\n",
              "      border: none;\n",
              "      border-radius: 50%;\n",
              "      cursor: pointer;\n",
              "      display: none;\n",
              "      fill: #1967D2;\n",
              "      height: 32px;\n",
              "      padding: 0 0 0 0;\n",
              "      width: 32px;\n",
              "    }\n",
              "\n",
              "    .colab-df-convert:hover {\n",
              "      background-color: #E2EBFA;\n",
              "      box-shadow: 0px 1px 2px rgba(60, 64, 67, 0.3), 0px 1px 3px 1px rgba(60, 64, 67, 0.15);\n",
              "      fill: #174EA6;\n",
              "    }\n",
              "\n",
              "    [theme=dark] .colab-df-convert {\n",
              "      background-color: #3B4455;\n",
              "      fill: #D2E3FC;\n",
              "    }\n",
              "\n",
              "    [theme=dark] .colab-df-convert:hover {\n",
              "      background-color: #434B5C;\n",
              "      box-shadow: 0px 1px 3px 1px rgba(0, 0, 0, 0.15);\n",
              "      filter: drop-shadow(0px 1px 2px rgba(0, 0, 0, 0.3));\n",
              "      fill: #FFFFFF;\n",
              "    }\n",
              "  </style>\n",
              "\n",
              "      <script>\n",
              "        const buttonEl =\n",
              "          document.querySelector('#df-5067f234-ab09-4f4a-be0b-1b61b95f2ad4 button.colab-df-convert');\n",
              "        buttonEl.style.display =\n",
              "          google.colab.kernel.accessAllowed ? 'block' : 'none';\n",
              "\n",
              "        async function convertToInteractive(key) {\n",
              "          const element = document.querySelector('#df-5067f234-ab09-4f4a-be0b-1b61b95f2ad4');\n",
              "          const dataTable =\n",
              "            await google.colab.kernel.invokeFunction('convertToInteractive',\n",
              "                                                     [key], {});\n",
              "          if (!dataTable) return;\n",
              "\n",
              "          const docLinkHtml = 'Like what you see? Visit the ' +\n",
              "            '<a target=\"_blank\" href=https://colab.research.google.com/notebooks/data_table.ipynb>data table notebook</a>'\n",
              "            + ' to learn more about interactive tables.';\n",
              "          element.innerHTML = '';\n",
              "          dataTable['output_type'] = 'display_data';\n",
              "          await google.colab.output.renderOutput(dataTable, element);\n",
              "          const docLink = document.createElement('div');\n",
              "          docLink.innerHTML = docLinkHtml;\n",
              "          element.appendChild(docLink);\n",
              "        }\n",
              "      </script>\n",
              "    </div>\n",
              "  </div>\n",
              "  "
            ],
            "text/plain": [
              "             id  ... availability_365\n",
              "38293  30181691  ...              309\n",
              "38294  30181945  ...              219\n",
              "38588  30347708  ...              159\n",
              "39769  30937590  ...               91\n",
              "39770  30937591  ...               81\n",
              "...         ...  ...              ...\n",
              "47691  35871510  ...              339\n",
              "47692  35871511  ...              342\n",
              "47693  35871515  ...              347\n",
              "47814  35936418  ...              327\n",
              "47821  35937891  ...              341\n",
              "\n",
              "[327 rows x 15 columns]"
            ]
          },
          "metadata": {},
          "execution_count": 32
        }
      ],
      "source": [
        "df[df['host_id']== 219517861]"
      ]
    },
    {
      "cell_type": "markdown",
      "metadata": {
        "id": "O6XzGNT4OM4Z"
      },
      "source": [
        "# **Lest Check the average Minimum number of Nights for each room type**"
      ]
    },
    {
      "cell_type": "code",
      "execution_count": null,
      "metadata": {
        "id": "eIAB6Pj9Nlfm"
      },
      "outputs": [],
      "source": [
        "# Creating data Frame for the Avg amount of minimum nights\n",
        "\n",
        "f = {'host_id':['count'],'minimum_nights' :['mean']}  # variable to be used for Agg function \n",
        "\n",
        "DF3 = df[['host_id','room_type','minimum_nights']].groupby(['room_type']).agg(f).reset_index()   # creating the dataframe\n",
        "\n",
        "DF3.columns = ['room_type','Count_booking','Minimum_nights']\n",
        "\n",
        "DF3['Minimum_nights'] = DF3.Minimum_nights.round()\n",
        "DF3.sort_values('Minimum_nights',ascending = False,inplace = True)"
      ]
    },
    {
      "cell_type": "code",
      "execution_count": null,
      "metadata": {
        "id": "6m81dtMCOiEq",
        "colab": {
          "base_uri": "https://localhost:8080/",
          "height": 143
        },
        "outputId": "e4a31d5d-e43a-4bf8-ec3e-c91cb1fed51b"
      },
      "outputs": [
        {
          "output_type": "execute_result",
          "data": {
            "text/html": [
              "\n",
              "  <div id=\"df-c7024377-ce2c-4222-9e55-c8b16e48ac8f\">\n",
              "    <div class=\"colab-df-container\">\n",
              "      <div>\n",
              "<style scoped>\n",
              "    .dataframe tbody tr th:only-of-type {\n",
              "        vertical-align: middle;\n",
              "    }\n",
              "\n",
              "    .dataframe tbody tr th {\n",
              "        vertical-align: top;\n",
              "    }\n",
              "\n",
              "    .dataframe thead th {\n",
              "        text-align: right;\n",
              "    }\n",
              "</style>\n",
              "<table border=\"1\" class=\"dataframe\">\n",
              "  <thead>\n",
              "    <tr style=\"text-align: right;\">\n",
              "      <th></th>\n",
              "      <th>room_type</th>\n",
              "      <th>Count_booking</th>\n",
              "      <th>Minimum_nights</th>\n",
              "    </tr>\n",
              "  </thead>\n",
              "  <tbody>\n",
              "    <tr>\n",
              "      <th>0</th>\n",
              "      <td>Entire home/apt</td>\n",
              "      <td>25409</td>\n",
              "      <td>9.0</td>\n",
              "    </tr>\n",
              "    <tr>\n",
              "      <th>2</th>\n",
              "      <td>Shared room</td>\n",
              "      <td>1160</td>\n",
              "      <td>6.0</td>\n",
              "    </tr>\n",
              "    <tr>\n",
              "      <th>1</th>\n",
              "      <td>Private room</td>\n",
              "      <td>22326</td>\n",
              "      <td>5.0</td>\n",
              "    </tr>\n",
              "  </tbody>\n",
              "</table>\n",
              "</div>\n",
              "      <button class=\"colab-df-convert\" onclick=\"convertToInteractive('df-c7024377-ce2c-4222-9e55-c8b16e48ac8f')\"\n",
              "              title=\"Convert this dataframe to an interactive table.\"\n",
              "              style=\"display:none;\">\n",
              "        \n",
              "  <svg xmlns=\"http://www.w3.org/2000/svg\" height=\"24px\"viewBox=\"0 0 24 24\"\n",
              "       width=\"24px\">\n",
              "    <path d=\"M0 0h24v24H0V0z\" fill=\"none\"/>\n",
              "    <path d=\"M18.56 5.44l.94 2.06.94-2.06 2.06-.94-2.06-.94-.94-2.06-.94 2.06-2.06.94zm-11 1L8.5 8.5l.94-2.06 2.06-.94-2.06-.94L8.5 2.5l-.94 2.06-2.06.94zm10 10l.94 2.06.94-2.06 2.06-.94-2.06-.94-.94-2.06-.94 2.06-2.06.94z\"/><path d=\"M17.41 7.96l-1.37-1.37c-.4-.4-.92-.59-1.43-.59-.52 0-1.04.2-1.43.59L10.3 9.45l-7.72 7.72c-.78.78-.78 2.05 0 2.83L4 21.41c.39.39.9.59 1.41.59.51 0 1.02-.2 1.41-.59l7.78-7.78 2.81-2.81c.8-.78.8-2.07 0-2.86zM5.41 20L4 18.59l7.72-7.72 1.47 1.35L5.41 20z\"/>\n",
              "  </svg>\n",
              "      </button>\n",
              "      \n",
              "  <style>\n",
              "    .colab-df-container {\n",
              "      display:flex;\n",
              "      flex-wrap:wrap;\n",
              "      gap: 12px;\n",
              "    }\n",
              "\n",
              "    .colab-df-convert {\n",
              "      background-color: #E8F0FE;\n",
              "      border: none;\n",
              "      border-radius: 50%;\n",
              "      cursor: pointer;\n",
              "      display: none;\n",
              "      fill: #1967D2;\n",
              "      height: 32px;\n",
              "      padding: 0 0 0 0;\n",
              "      width: 32px;\n",
              "    }\n",
              "\n",
              "    .colab-df-convert:hover {\n",
              "      background-color: #E2EBFA;\n",
              "      box-shadow: 0px 1px 2px rgba(60, 64, 67, 0.3), 0px 1px 3px 1px rgba(60, 64, 67, 0.15);\n",
              "      fill: #174EA6;\n",
              "    }\n",
              "\n",
              "    [theme=dark] .colab-df-convert {\n",
              "      background-color: #3B4455;\n",
              "      fill: #D2E3FC;\n",
              "    }\n",
              "\n",
              "    [theme=dark] .colab-df-convert:hover {\n",
              "      background-color: #434B5C;\n",
              "      box-shadow: 0px 1px 3px 1px rgba(0, 0, 0, 0.15);\n",
              "      filter: drop-shadow(0px 1px 2px rgba(0, 0, 0, 0.3));\n",
              "      fill: #FFFFFF;\n",
              "    }\n",
              "  </style>\n",
              "\n",
              "      <script>\n",
              "        const buttonEl =\n",
              "          document.querySelector('#df-c7024377-ce2c-4222-9e55-c8b16e48ac8f button.colab-df-convert');\n",
              "        buttonEl.style.display =\n",
              "          google.colab.kernel.accessAllowed ? 'block' : 'none';\n",
              "\n",
              "        async function convertToInteractive(key) {\n",
              "          const element = document.querySelector('#df-c7024377-ce2c-4222-9e55-c8b16e48ac8f');\n",
              "          const dataTable =\n",
              "            await google.colab.kernel.invokeFunction('convertToInteractive',\n",
              "                                                     [key], {});\n",
              "          if (!dataTable) return;\n",
              "\n",
              "          const docLinkHtml = 'Like what you see? Visit the ' +\n",
              "            '<a target=\"_blank\" href=https://colab.research.google.com/notebooks/data_table.ipynb>data table notebook</a>'\n",
              "            + ' to learn more about interactive tables.';\n",
              "          element.innerHTML = '';\n",
              "          dataTable['output_type'] = 'display_data';\n",
              "          await google.colab.output.renderOutput(dataTable, element);\n",
              "          const docLink = document.createElement('div');\n",
              "          docLink.innerHTML = docLinkHtml;\n",
              "          element.appendChild(docLink);\n",
              "        }\n",
              "      </script>\n",
              "    </div>\n",
              "  </div>\n",
              "  "
            ],
            "text/plain": [
              "         room_type  Count_booking  Minimum_nights\n",
              "0  Entire home/apt          25409             9.0\n",
              "2      Shared room           1160             6.0\n",
              "1     Private room          22326             5.0"
            ]
          },
          "metadata": {},
          "execution_count": 34
        }
      ],
      "source": [
        "DF3"
      ]
    },
    {
      "cell_type": "code",
      "execution_count": null,
      "metadata": {
        "id": "7pOLwMWDOZkJ",
        "colab": {
          "base_uri": "https://localhost:8080/",
          "height": 391
        },
        "outputId": "aa02fe14-2393-413d-9c14-e5736a6a8d85"
      },
      "outputs": [
        {
          "output_type": "display_data",
          "data": {
            "image/png": "[encoded data removed]",
            "text/plain": [
              "<Figure size 600x400 with 1 Axes>"
            ]
          },
          "metadata": {}
        }
      ],
      "source": [
        "sns.set_style('whitegrid')\n",
        "sns.barplot(data= DF3,x = 'room_type',y = 'Minimum_nights')\n",
        "plt.xlabel('')\n",
        "plt.ylabel('')\n",
        "plt.title('Average Nights in Room', size=15, color='#4f4e4e')\n",
        "plt.xticks(size=12, color='#4f4e4e')\n",
        "plt.yticks([], [])\n",
        "plt.text(x=0, y=2, s=DF3.loc[0,'Minimum_nights'], color='white', fontsize=12, horizontalalignment='center')\n",
        "plt.text(x=1, y=2, s=DF3.loc[2,'Minimum_nights'], color='white', fontsize=12, horizontalalignment='center')\n",
        "plt.text(x=2, y=2, s=DF3.loc[1,'Minimum_nights'], color='white', fontsize=12, horizontalalignment='center')\n",
        "sns.despine(left=True);"
      ]
    },
    {
      "cell_type": "markdown",
      "metadata": {
        "id": "aUS9Guy40OgX"
      },
      "source": [
        "\n",
        "\n",
        "*   **Average 9 nights are mandatory for stay for booking of Entire home**\n",
        "\n",
        "\n",
        "*   **shared room is second with average minimum  6 nights.**\n",
        "\n",
        "\n",
        "\n",
        "\n",
        "\n"
      ]
    },
    {
      "cell_type": "markdown",
      "metadata": {
        "id": "40wqcIayQ_nI"
      },
      "source": [
        "# **Lets check on overall distribution of availability in each boroughs**"
      ]
    },
    {
      "cell_type": "code",
      "execution_count": null,
      "metadata": {
        "id": "5rt3z7bROaN0",
        "colab": {
          "base_uri": "https://localhost:8080/",
          "height": 524
        },
        "outputId": "8b35d61f-72a8-4d0b-c302-a79f7716caf4"
      },
      "outputs": [
        {
          "output_type": "execute_result",
          "data": {
            "text/plain": [
              "<seaborn.axisgrid.FacetGrid at 0x7f594b680fd0>"
            ]
          },
          "metadata": {},
          "execution_count": 36
        },
        {
          "output_type": "display_data",
          "data": {
            "image/png": "[encoded data removed]",
            "text/plain": [
              "<Figure size 663.611x500 with 1 Axes>"
            ]
          },
          "metadata": {}
        }
      ],
      "source": [
        "#creating the KDE plot\n",
        "sns.set_style(\"darkgrid\")\n",
        "sns.displot(data= df, x= \"availability_365\", kind=\"kde\",hue = 'neighbourhood_group',fill = True,alpha = 0.1)"
      ]
    },
    {
      "cell_type": "markdown",
      "metadata": {
        "id": "PoZmcFIkTEc3"
      },
      "source": [
        "**Room availability pattern for Manhattan and Brooklyn is idnetical with  same peak close the zero, this shows most of the Listing are not available for booking in Manhattan and Brooklyn.**"
      ]
    },
    {
      "cell_type": "code",
      "execution_count": null,
      "metadata": {
        "id": "sDOw6Z5DQDdp",
        "colab": {
          "base_uri": "https://localhost:8080/",
          "height": 381
        },
        "outputId": "7838a6fa-383f-4c23-f652-bae184d2359c"
      },
      "outputs": [
        {
          "output_type": "display_data",
          "data": {
            "image/png": "[encoded data removed]",
            "text/plain": [
              "<Figure size 600x400 with 1 Axes>"
            ]
          },
          "metadata": {}
        }
      ],
      "source": [
        "# lets see the box plot of avaiablity to dive deeper\n",
        "sns.set_style(\"darkgrid\")\n",
        "sns.boxplot(data =df,x ='neighbourhood_group',y ='availability_365')\n",
        "plt.xticks(size=8, color='#4f4e4e')\n",
        "plt.xlabel('')\n",
        "plt.title('Room Availablity Across NYC', size=12, color='#4f4e4e')\n",
        "plt.ylabel('')\n",
        "plt.yticks(size = 8)\n",
        "sns.despine(left = True, bottom  = True)"
      ]
    },
    {
      "cell_type": "markdown",
      "metadata": {
        "id": "ut76c9dxagi1"
      },
      "source": [
        "**Brooklyn has the least availability followed by Manhattan**"
      ]
    },
    {
      "cell_type": "markdown",
      "metadata": {
        "id": "wdeWzshJujEe"
      },
      "source": [
        "#**lets see what we can do with the reviews_month**"
      ]
    },
    {
      "cell_type": "code",
      "execution_count": null,
      "metadata": {
        "id": "umCovbskhLKE",
        "colab": {
          "base_uri": "https://localhost:8080/",
          "height": 381
        },
        "outputId": "fb7f3c84-5e24-4990-a106-7dff46e481f6"
      },
      "outputs": [
        {
          "output_type": "display_data",
          "data": {
            "image/png": "[encoded data removed]",
            "text/plain": [
              "<Figure size 600x400 with 1 Axes>"
            ]
          },
          "metadata": {}
        }
      ],
      "source": [
        "# Plotting the reviews_per_month againt\n",
        "sns.set_style(\"darkgrid\")\n",
        "sns.stripplot(x=\"room_type\", y=\"reviews_per_month\",hue = 'neighbourhood_group' ,data=df, dodge = True,edgecolor ='gray',linewidth = 0.3,size = 3)\n",
        "plt.xlabel('')\n",
        "plt.ylabel('')\n",
        "plt.yticks(size = 8)\n",
        "plt.title('Rooms Review by Boroughs', size=12, color='#4f4e4e')\n",
        "plt.xticks(size=8, color='#4f4e4e')\n",
        "plt.legend(loc=\"upper right\", frameon=False, fontsize= 5)\n",
        "sns.despine(left = True,bottom = True);"
      ]
    },
    {
      "cell_type": "markdown",
      "metadata": {
        "id": "GSy2yU8P4IiV"
      },
      "source": [
        "**Private Rooms** are the most reviewed amongs the types of rooms.\n",
        "**Manhattan** is the most reviewed followed by **Queens**\n"
      ]
    },
    {
      "cell_type": "markdown",
      "metadata": {
        "id": "pIR3RWnN7EIb"
      },
      "source": [
        "#**REVIEWING PRICE FOR EACH BOROUGHS**"
      ]
    },
    {
      "cell_type": "code",
      "execution_count": null,
      "metadata": {
        "id": "AFoJAKE3vcD4",
        "colab": {
          "base_uri": "https://localhost:8080/",
          "height": 456
        },
        "outputId": "c4198444-4745-4e1a-e9e5-0a9ffc661d68"
      },
      "outputs": [
        {
          "output_type": "stream",
          "name": "stderr",
          "text": [
            "/usr/local/lib/python3.7/dist-packages/seaborn/_decorators.py:43: FutureWarning: Pass the following variable as a keyword arg: x. From version 0.12, the only valid positional argument will be `data`, and passing other arguments without an explicit keyword will result in an error or misinterpretation.\n",
            "  FutureWarning\n"
          ]
        },
        {
          "output_type": "execute_result",
          "data": {
            "text/plain": [
              "<matplotlib.axes._subplots.AxesSubplot at 0x7f592fe4d790>"
            ]
          },
          "metadata": {},
          "execution_count": 39
        },
        {
          "output_type": "display_data",
          "data": {
            "image/png": "[encoded data removed]",
            "text/plain": [
              "<Figure size 600x400 with 1 Axes>"
            ]
          },
          "metadata": {}
        }
      ],
      "source": [
        "sns.boxplot(df.price) # ther are many outliers"
      ]
    },
    {
      "cell_type": "markdown",
      "metadata": {
        "id": "7TWoJ71i8RAk"
      },
      "source": [
        "#**Removing outliers** using IQR"
      ]
    },
    {
      "cell_type": "code",
      "execution_count": null,
      "metadata": {
        "id": "Vfxbh6ne0SXH",
        "colab": {
          "base_uri": "https://localhost:8080/"
        },
        "outputId": "79ce3fdb-88b9-4a0b-9662-811bfe3d4617"
      },
      "outputs": [
        {
          "output_type": "stream",
          "name": "stdout",
          "text": [
            "id                                1.968023e+07\n",
            "host_id                           9.961239e+07\n",
            "latitude                          7.301500e-02\n",
            "longitude                         4.679500e-02\n",
            "price                             1.060000e+02\n",
            "minimum_nights                    4.000000e+00\n",
            "number_of_reviews                 2.300000e+01\n",
            "reviews_per_month                 1.540000e+00\n",
            "calculated_host_listings_count    1.000000e+00\n",
            "availability_365                  2.270000e+02\n",
            "dtype: float64\n"
          ]
        }
      ],
      "source": [
        "Q1 = df.quantile(0.25)\n",
        "Q3 = df.quantile(0.75)\n",
        "IQR = Q3 - Q1\n",
        "print(IQR)"
      ]
    },
    {
      "cell_type": "code",
      "execution_count": null,
      "metadata": {
        "id": "bMdi2Agp1VeS"
      },
      "outputs": [],
      "source": [
        "# writing a outlier function for removing outliers!\n",
        "def outlier_treatment(datacolumn):\n",
        " sorted(datacolumn)\n",
        " Q1,Q3 = np.percentile(datacolumn , [25,75])\n",
        " IQR = Q3 - Q1\n",
        " lower_range = Q1 - (1.5 * IQR)\n",
        " upper_range = Q3 + (1.5 * IQR)\n",
        " \n",
        " return lower_range,upper_range"
      ]
    },
    {
      "cell_type": "code",
      "execution_count": null,
      "metadata": {
        "id": "C3GlPS2Y81y8"
      },
      "outputs": [],
      "source": [
        "lower_bound,upper_bound = outlier_treatment(df['price'])"
      ]
    },
    {
      "cell_type": "code",
      "execution_count": null,
      "metadata": {
        "id": "QLR7YjAT87Im",
        "colab": {
          "base_uri": "https://localhost:8080/",
          "height": 748
        },
        "outputId": "e6edd296-4ddf-420f-8087-65db644e67e1"
      },
      "outputs": [
        {
          "output_type": "execute_result",
          "data": {
            "text/html": [
              "\n",
              "  <div id=\"df-15916b8a-ae53-41b8-bc5e-c43b5109dbeb\">\n",
              "    <div class=\"colab-df-container\">\n",
              "      <div>\n",
              "<style scoped>\n",
              "    .dataframe tbody tr th:only-of-type {\n",
              "        vertical-align: middle;\n",
              "    }\n",
              "\n",
              "    .dataframe tbody tr th {\n",
              "        vertical-align: top;\n",
              "    }\n",
              "\n",
              "    .dataframe thead th {\n",
              "        text-align: right;\n",
              "    }\n",
              "</style>\n",
              "<table border=\"1\" class=\"dataframe\">\n",
              "  <thead>\n",
              "    <tr style=\"text-align: right;\">\n",
              "      <th></th>\n",
              "      <th>id</th>\n",
              "      <th>name</th>\n",
              "      <th>host_id</th>\n",
              "      <th>host_name</th>\n",
              "      <th>neighbourhood_group</th>\n",
              "      <th>neighbourhood</th>\n",
              "      <th>latitude</th>\n",
              "      <th>longitude</th>\n",
              "      <th>room_type</th>\n",
              "      <th>price</th>\n",
              "      <th>minimum_nights</th>\n",
              "      <th>number_of_reviews</th>\n",
              "      <th>reviews_per_month</th>\n",
              "      <th>calculated_host_listings_count</th>\n",
              "      <th>availability_365</th>\n",
              "    </tr>\n",
              "  </thead>\n",
              "  <tbody>\n",
              "    <tr>\n",
              "      <th>61</th>\n",
              "      <td>15396</td>\n",
              "      <td>Sunny &amp; Spacious Chelsea Apartment</td>\n",
              "      <td>60278</td>\n",
              "      <td>Petra</td>\n",
              "      <td>Manhattan</td>\n",
              "      <td>Chelsea</td>\n",
              "      <td>40.74623</td>\n",
              "      <td>-73.99530</td>\n",
              "      <td>Entire home/apt</td>\n",
              "      <td>375</td>\n",
              "      <td>180</td>\n",
              "      <td>5</td>\n",
              "      <td>0.12</td>\n",
              "      <td>1</td>\n",
              "      <td>180</td>\n",
              "    </tr>\n",
              "    <tr>\n",
              "      <th>85</th>\n",
              "      <td>19601</td>\n",
              "      <td>perfect for a family or small group</td>\n",
              "      <td>74303</td>\n",
              "      <td>Maggie</td>\n",
              "      <td>Brooklyn</td>\n",
              "      <td>Brooklyn Heights</td>\n",
              "      <td>40.69723</td>\n",
              "      <td>-73.99268</td>\n",
              "      <td>Entire home/apt</td>\n",
              "      <td>800</td>\n",
              "      <td>1</td>\n",
              "      <td>25</td>\n",
              "      <td>0.24</td>\n",
              "      <td>1</td>\n",
              "      <td>7</td>\n",
              "    </tr>\n",
              "    <tr>\n",
              "      <th>103</th>\n",
              "      <td>23686</td>\n",
              "      <td>2000 SF 3br 2bath West Village private  townhouse</td>\n",
              "      <td>93790</td>\n",
              "      <td>Ann</td>\n",
              "      <td>Manhattan</td>\n",
              "      <td>West Village</td>\n",
              "      <td>40.73096</td>\n",
              "      <td>-74.00319</td>\n",
              "      <td>Entire home/apt</td>\n",
              "      <td>500</td>\n",
              "      <td>4</td>\n",
              "      <td>46</td>\n",
              "      <td>0.55</td>\n",
              "      <td>2</td>\n",
              "      <td>243</td>\n",
              "    </tr>\n",
              "    <tr>\n",
              "      <th>114</th>\n",
              "      <td>26933</td>\n",
              "      <td>2 BR / 2 Bath Duplex Apt with patio! East Village</td>\n",
              "      <td>72062</td>\n",
              "      <td>Bruce</td>\n",
              "      <td>Manhattan</td>\n",
              "      <td>East Village</td>\n",
              "      <td>40.72540</td>\n",
              "      <td>-73.98157</td>\n",
              "      <td>Entire home/apt</td>\n",
              "      <td>350</td>\n",
              "      <td>2</td>\n",
              "      <td>7</td>\n",
              "      <td>0.06</td>\n",
              "      <td>4</td>\n",
              "      <td>298</td>\n",
              "    </tr>\n",
              "    <tr>\n",
              "      <th>121</th>\n",
              "      <td>27659</td>\n",
              "      <td>3 Story Town House in Park Slope</td>\n",
              "      <td>119588</td>\n",
              "      <td>Vero</td>\n",
              "      <td>Brooklyn</td>\n",
              "      <td>South Slope</td>\n",
              "      <td>40.66499</td>\n",
              "      <td>-73.97925</td>\n",
              "      <td>Entire home/apt</td>\n",
              "      <td>400</td>\n",
              "      <td>2</td>\n",
              "      <td>16</td>\n",
              "      <td>0.24</td>\n",
              "      <td>2</td>\n",
              "      <td>216</td>\n",
              "    </tr>\n",
              "    <tr>\n",
              "      <th>...</th>\n",
              "      <td>...</td>\n",
              "      <td>...</td>\n",
              "      <td>...</td>\n",
              "      <td>...</td>\n",
              "      <td>...</td>\n",
              "      <td>...</td>\n",
              "      <td>...</td>\n",
              "      <td>...</td>\n",
              "      <td>...</td>\n",
              "      <td>...</td>\n",
              "      <td>...</td>\n",
              "      <td>...</td>\n",
              "      <td>...</td>\n",
              "      <td>...</td>\n",
              "      <td>...</td>\n",
              "    </tr>\n",
              "    <tr>\n",
              "      <th>48758</th>\n",
              "      <td>36420289</td>\n",
              "      <td>Rustic Garden House Apt, 2 stops from Manhattan</td>\n",
              "      <td>73211393</td>\n",
              "      <td>LaGabrell</td>\n",
              "      <td>Queens</td>\n",
              "      <td>Long Island City</td>\n",
              "      <td>40.75508</td>\n",
              "      <td>-73.93258</td>\n",
              "      <td>Entire home/apt</td>\n",
              "      <td>350</td>\n",
              "      <td>2</td>\n",
              "      <td>0</td>\n",
              "      <td>0.00</td>\n",
              "      <td>1</td>\n",
              "      <td>364</td>\n",
              "    </tr>\n",
              "    <tr>\n",
              "      <th>48833</th>\n",
              "      <td>36450896</td>\n",
              "      <td>Brand New 3-Bed Apt in the Best Location of FiDi</td>\n",
              "      <td>29741813</td>\n",
              "      <td>Yue</td>\n",
              "      <td>Manhattan</td>\n",
              "      <td>Financial District</td>\n",
              "      <td>40.70605</td>\n",
              "      <td>-74.01042</td>\n",
              "      <td>Entire home/apt</td>\n",
              "      <td>475</td>\n",
              "      <td>2</td>\n",
              "      <td>0</td>\n",
              "      <td>0.00</td>\n",
              "      <td>1</td>\n",
              "      <td>64</td>\n",
              "    </tr>\n",
              "    <tr>\n",
              "      <th>48839</th>\n",
              "      <td>36452721</td>\n",
              "      <td>Massage Spa. Stay overnight. Authors Artist dr...</td>\n",
              "      <td>274079964</td>\n",
              "      <td>Richard</td>\n",
              "      <td>Brooklyn</td>\n",
              "      <td>Sheepshead Bay</td>\n",
              "      <td>40.59866</td>\n",
              "      <td>-73.95661</td>\n",
              "      <td>Private room</td>\n",
              "      <td>800</td>\n",
              "      <td>1</td>\n",
              "      <td>0</td>\n",
              "      <td>0.00</td>\n",
              "      <td>1</td>\n",
              "      <td>23</td>\n",
              "    </tr>\n",
              "    <tr>\n",
              "      <th>48842</th>\n",
              "      <td>36453160</td>\n",
              "      <td>LUXURY MANHATTAN PENTHOUSE+HUDSON RIVER+EMPIRE...</td>\n",
              "      <td>224171371</td>\n",
              "      <td>LuxuryApartmentsByAmber</td>\n",
              "      <td>Manhattan</td>\n",
              "      <td>Chelsea</td>\n",
              "      <td>40.75204</td>\n",
              "      <td>-74.00292</td>\n",
              "      <td>Entire home/apt</td>\n",
              "      <td>350</td>\n",
              "      <td>1</td>\n",
              "      <td>0</td>\n",
              "      <td>0.00</td>\n",
              "      <td>1</td>\n",
              "      <td>9</td>\n",
              "    </tr>\n",
              "    <tr>\n",
              "      <th>48856</th>\n",
              "      <td>36457700</td>\n",
              "      <td>Large 3 bed, 2 bath , garden , bbq , all you need</td>\n",
              "      <td>66993395</td>\n",
              "      <td>Thomas</td>\n",
              "      <td>Brooklyn</td>\n",
              "      <td>Bedford-Stuyvesant</td>\n",
              "      <td>40.68886</td>\n",
              "      <td>-73.92879</td>\n",
              "      <td>Entire home/apt</td>\n",
              "      <td>345</td>\n",
              "      <td>4</td>\n",
              "      <td>0</td>\n",
              "      <td>0.00</td>\n",
              "      <td>3</td>\n",
              "      <td>354</td>\n",
              "    </tr>\n",
              "  </tbody>\n",
              "</table>\n",
              "<p>2972 rows × 15 columns</p>\n",
              "</div>\n",
              "      <button class=\"colab-df-convert\" onclick=\"convertToInteractive('df-15916b8a-ae53-41b8-bc5e-c43b5109dbeb')\"\n",
              "              title=\"Convert this dataframe to an interactive table.\"\n",
              "              style=\"display:none;\">\n",
              "        \n",
              "  <svg xmlns=\"http://www.w3.org/2000/svg\" height=\"24px\"viewBox=\"0 0 24 24\"\n",
              "       width=\"24px\">\n",
              "    <path d=\"M0 0h24v24H0V0z\" fill=\"none\"/>\n",
              "    <path d=\"M18.56 5.44l.94 2.06.94-2.06 2.06-.94-2.06-.94-.94-2.06-.94 2.06-2.06.94zm-11 1L8.5 8.5l.94-2.06 2.06-.94-2.06-.94L8.5 2.5l-.94 2.06-2.06.94zm10 10l.94 2.06.94-2.06 2.06-.94-2.06-.94-.94-2.06-.94 2.06-2.06.94z\"/><path d=\"M17.41 7.96l-1.37-1.37c-.4-.4-.92-.59-1.43-.59-.52 0-1.04.2-1.43.59L10.3 9.45l-7.72 7.72c-.78.78-.78 2.05 0 2.83L4 21.41c.39.39.9.59 1.41.59.51 0 1.02-.2 1.41-.59l7.78-7.78 2.81-2.81c.8-.78.8-2.07 0-2.86zM5.41 20L4 18.59l7.72-7.72 1.47 1.35L5.41 20z\"/>\n",
              "  </svg>\n",
              "      </button>\n",
              "      \n",
              "  <style>\n",
              "    .colab-df-container {\n",
              "      display:flex;\n",
              "      flex-wrap:wrap;\n",
              "      gap: 12px;\n",
              "    }\n",
              "\n",
              "    .colab-df-convert {\n",
              "      background-color: #E8F0FE;\n",
              "      border: none;\n",
              "      border-radius: 50%;\n",
              "      cursor: pointer;\n",
              "      display: none;\n",
              "      fill: #1967D2;\n",
              "      height: 32px;\n",
              "      padding: 0 0 0 0;\n",
              "      width: 32px;\n",
              "    }\n",
              "\n",
              "    .colab-df-convert:hover {\n",
              "      background-color: #E2EBFA;\n",
              "      box-shadow: 0px 1px 2px rgba(60, 64, 67, 0.3), 0px 1px 3px 1px rgba(60, 64, 67, 0.15);\n",
              "      fill: #174EA6;\n",
              "    }\n",
              "\n",
              "    [theme=dark] .colab-df-convert {\n",
              "      background-color: #3B4455;\n",
              "      fill: #D2E3FC;\n",
              "    }\n",
              "\n",
              "    [theme=dark] .colab-df-convert:hover {\n",
              "      background-color: #434B5C;\n",
              "      box-shadow: 0px 1px 3px 1px rgba(0, 0, 0, 0.15);\n",
              "      filter: drop-shadow(0px 1px 2px rgba(0, 0, 0, 0.3));\n",
              "      fill: #FFFFFF;\n",
              "    }\n",
              "  </style>\n",
              "\n",
              "      <script>\n",
              "        const buttonEl =\n",
              "          document.querySelector('#df-15916b8a-ae53-41b8-bc5e-c43b5109dbeb button.colab-df-convert');\n",
              "        buttonEl.style.display =\n",
              "          google.colab.kernel.accessAllowed ? 'block' : 'none';\n",
              "\n",
              "        async function convertToInteractive(key) {\n",
              "          const element = document.querySelector('#df-15916b8a-ae53-41b8-bc5e-c43b5109dbeb');\n",
              "          const dataTable =\n",
              "            await google.colab.kernel.invokeFunction('convertToInteractive',\n",
              "                                                     [key], {});\n",
              "          if (!dataTable) return;\n",
              "\n",
              "          const docLinkHtml = 'Like what you see? Visit the ' +\n",
              "            '<a target=\"_blank\" href=https://colab.research.google.com/notebooks/data_table.ipynb>data table notebook</a>'\n",
              "            + ' to learn more about interactive tables.';\n",
              "          element.innerHTML = '';\n",
              "          dataTable['output_type'] = 'display_data';\n",
              "          await google.colab.output.renderOutput(dataTable, element);\n",
              "          const docLink = document.createElement('div');\n",
              "          docLink.innerHTML = docLinkHtml;\n",
              "          element.appendChild(docLink);\n",
              "        }\n",
              "      </script>\n",
              "    </div>\n",
              "  </div>\n",
              "  "
            ],
            "text/plain": [
              "             id  ... availability_365\n",
              "61        15396  ...              180\n",
              "85        19601  ...                7\n",
              "103       23686  ...              243\n",
              "114       26933  ...              298\n",
              "121       27659  ...              216\n",
              "...         ...  ...              ...\n",
              "48758  36420289  ...              364\n",
              "48833  36450896  ...               64\n",
              "48839  36452721  ...               23\n",
              "48842  36453160  ...                9\n",
              "48856  36457700  ...              354\n",
              "\n",
              "[2972 rows x 15 columns]"
            ]
          },
          "metadata": {},
          "execution_count": 43
        }
      ],
      "source": [
        "df[(df.price < lower_bound) | (df.price > upper_bound)] #looking at the low and upper range outliers"
      ]
    },
    {
      "cell_type": "code",
      "execution_count": null,
      "metadata": {
        "id": "mlHSD6D68_r0"
      },
      "outputs": [],
      "source": [
        "# deriving the Data used only that is within the IQR\n",
        "df_subset = df[(df.price>lower_bound) & (df.price<upper_bound)]"
      ]
    },
    {
      "cell_type": "code",
      "execution_count": null,
      "metadata": {
        "id": "3iufy_Dy9uo3",
        "colab": {
          "base_uri": "https://localhost:8080/",
          "height": 380
        },
        "outputId": "09a3b53e-70e3-4a6b-c7a7-fe2f53d41eb8"
      },
      "outputs": [
        {
          "output_type": "execute_result",
          "data": {
            "text/plain": [
              "<matplotlib.axes._subplots.AxesSubplot at 0x7f592fcadb50>"
            ]
          },
          "metadata": {},
          "execution_count": 45
        },
        {
          "output_type": "display_data",
          "data": {
            "image/png": "[encoded data removed]",
            "text/plain": [
              "<Figure size 600x400 with 1 Axes>"
            ]
          },
          "metadata": {}
        }
      ],
      "source": [
        "# Plotting Box plot based on the IQR to check for outliers\n",
        "sns.boxplot(data = df_subset['price']) # the"
      ]
    },
    {
      "cell_type": "code",
      "execution_count": null,
      "metadata": {
        "id": "T4xMUxqxClzh",
        "colab": {
          "base_uri": "https://localhost:8080/",
          "height": 418
        },
        "outputId": "3a4b9876-7f77-4481-dcb8-4bc8413abb69"
      },
      "outputs": [
        {
          "output_type": "execute_result",
          "data": {
            "text/plain": [
              "(array([-50.,   0.,  50., 100., 150., 200., 250., 300., 350., 400.]),\n",
              " <a list of 10 Text major ticklabel objects>)"
            ]
          },
          "metadata": {},
          "execution_count": 46
        },
        {
          "output_type": "display_data",
          "data": {
            "image/png": "[encoded data removed]",
            "text/plain": [
              "<Figure size 600x400 with 1 Axes>"
            ]
          },
          "metadata": {}
        }
      ],
      "source": [
        "# Plotting the price for each Boroughs\n",
        "sns.violinplot(x='neighbourhood_group',y='price',data=df_subset)\n",
        "plt.title('Price distribution for each borough', size=12, color='#4f4e4e')\n",
        "plt.xticks(size=8, color='#4f4e4e')\n",
        "plt.xlabel('')\n",
        "plt.ylabel('')\n",
        "plt.yticks(size = 8,color='#4f4e4e')\n"
      ]
    },
    {
      "cell_type": "markdown",
      "metadata": {
        "id": "4jZMK1JQwQ0z"
      },
      "source": [
        "**Manhattan** is the **most expensive** as the rental charges are more evenly distributed   across all the **price ranges**.\n",
        "\n",
        "Median price in **Manhattan** is approx $140 thats around double the Median price of **Bronx**"
      ]
    },
    {
      "cell_type": "markdown",
      "metadata": {
        "id": "a0dwDe6j0Khy"
      },
      "source": [
        "#**Lets check on median price of each type of room in Boroughs**"
      ]
    },
    {
      "cell_type": "code",
      "execution_count": null,
      "metadata": {
        "id": "yDG4oCtv0zeD",
        "colab": {
          "base_uri": "https://localhost:8080/",
          "height": 366
        },
        "outputId": "be7d2ee7-44b6-4235-c0f5-6cc7e093d70a"
      },
      "outputs": [
        {
          "output_type": "display_data",
          "data": {
            "image/png": "[encoded data removed]",
            "text/plain": [
              "<Figure size 2250x500 with 5 Axes>"
            ]
          },
          "metadata": {}
        }
      ],
      "source": [
        "plt.rcParams['figure.dpi'] = 100\n",
        "sns.catplot(x=\"room_type\", y=\"price\", col=\"neighbourhood_group\",data=df_subset, saturation=.8,kind=\"bar\",ci=None,  aspect=.9)\n",
        "plt.xticks(size=12, color='#4f4e4e')\n",
        "sns.despine(left = True)"
      ]
    },
    {
      "cell_type": "markdown",
      "metadata": {
        "id": "R4XV_04S3rrh"
      },
      "source": [
        "**Manhattan is most expensive neighbourhood for each type of room, followed by Brooklyn and Queens.**\n",
        "\n",
        "**Staten Island , rental charges are almost similar for Private and Shared room type.**"
      ]
    },
    {
      "cell_type": "markdown",
      "metadata": {
        "id": "lQe8EIH24p48"
      },
      "source": [
        "#**Lets check the most expensive and Least expensive Neighbourhood**"
      ]
    },
    {
      "cell_type": "code",
      "execution_count": null,
      "metadata": {
        "id": "P9CIzfz41aR0",
        "colab": {
          "base_uri": "https://localhost:8080/",
          "height": 363
        },
        "outputId": "f9359f19-9e54-4b9e-d9e8-6ad8ff3b57e8"
      },
      "outputs": [
        {
          "output_type": "execute_result",
          "data": {
            "text/html": [
              "\n",
              "  <div id=\"df-6c213a3c-e3b3-465d-b483-6e2ff7c90d10\">\n",
              "    <div class=\"colab-df-container\">\n",
              "      <div>\n",
              "<style scoped>\n",
              "    .dataframe tbody tr th:only-of-type {\n",
              "        vertical-align: middle;\n",
              "    }\n",
              "\n",
              "    .dataframe tbody tr th {\n",
              "        vertical-align: top;\n",
              "    }\n",
              "\n",
              "    .dataframe thead th {\n",
              "        text-align: right;\n",
              "    }\n",
              "</style>\n",
              "<table border=\"1\" class=\"dataframe\">\n",
              "  <thead>\n",
              "    <tr style=\"text-align: right;\">\n",
              "      <th></th>\n",
              "      <th>name</th>\n",
              "      <th>host_id</th>\n",
              "      <th>host_name</th>\n",
              "      <th>neighbourhood_group</th>\n",
              "      <th>neighbourhood</th>\n",
              "      <th>price</th>\n",
              "    </tr>\n",
              "  </thead>\n",
              "  <tbody>\n",
              "    <tr>\n",
              "      <th>15150</th>\n",
              "      <td>Midtown Sleep 6 Central Convenience</td>\n",
              "      <td>62031986</td>\n",
              "      <td>Adam</td>\n",
              "      <td>Manhattan</td>\n",
              "      <td>Midtown</td>\n",
              "      <td>333</td>\n",
              "    </tr>\n",
              "    <tr>\n",
              "      <th>38565</th>\n",
              "      <td>Parisian Palace in Heart of Manhattan</td>\n",
              "      <td>224001464</td>\n",
              "      <td>Aleszea</td>\n",
              "      <td>Manhattan</td>\n",
              "      <td>Chelsea</td>\n",
              "      <td>333</td>\n",
              "    </tr>\n",
              "    <tr>\n",
              "      <th>28062</th>\n",
              "      <td>27 FLR VIEWS!LINCOLN SQR-LUXURY 2BR MIDTOWN W ...</td>\n",
              "      <td>76104209</td>\n",
              "      <td>Rated</td>\n",
              "      <td>Manhattan</td>\n",
              "      <td>Upper West Side</td>\n",
              "      <td>333</td>\n",
              "    </tr>\n",
              "    <tr>\n",
              "      <th>25161</th>\n",
              "      <td>Flatiron Loft 3BR/1.5 Bath Best Location\\n30 days</td>\n",
              "      <td>35635299</td>\n",
              "      <td>Mel</td>\n",
              "      <td>Manhattan</td>\n",
              "      <td>Midtown</td>\n",
              "      <td>333</td>\n",
              "    </tr>\n",
              "    <tr>\n",
              "      <th>48567</th>\n",
              "      <td>Your Private Duplex Mansion in the HEART of NYC!</td>\n",
              "      <td>269146714</td>\n",
              "      <td>Clinton</td>\n",
              "      <td>Manhattan</td>\n",
              "      <td>West Village</td>\n",
              "      <td>333</td>\n",
              "    </tr>\n",
              "    <tr>\n",
              "      <th>19641</th>\n",
              "      <td>SOMMwhere in NYC/ a unique, conscious artists ...</td>\n",
              "      <td>148108</td>\n",
              "      <td>Fatima</td>\n",
              "      <td>Manhattan</td>\n",
              "      <td>Lower East Side</td>\n",
              "      <td>333</td>\n",
              "    </tr>\n",
              "    <tr>\n",
              "      <th>45303</th>\n",
              "      <td>Five-star luxury Apt in Chelsea !</td>\n",
              "      <td>152747338</td>\n",
              "      <td>Paola</td>\n",
              "      <td>Manhattan</td>\n",
              "      <td>Chelsea</td>\n",
              "      <td>333</td>\n",
              "    </tr>\n",
              "    <tr>\n",
              "      <th>13798</th>\n",
              "      <td>Mid-Century Museum Sleepover</td>\n",
              "      <td>29065752</td>\n",
              "      <td>Cullen</td>\n",
              "      <td>Brooklyn</td>\n",
              "      <td>Williamsburg</td>\n",
              "      <td>333</td>\n",
              "    </tr>\n",
              "    <tr>\n",
              "      <th>32976</th>\n",
              "      <td>Luxurious 2bed/2.5bath with Central Park Views</td>\n",
              "      <td>4876826</td>\n",
              "      <td>Alex</td>\n",
              "      <td>Manhattan</td>\n",
              "      <td>Midtown</td>\n",
              "      <td>333</td>\n",
              "    </tr>\n",
              "    <tr>\n",
              "      <th>46439</th>\n",
              "      <td>CHELSEA CENTRAL LUXURY 2BATHS</td>\n",
              "      <td>184520918</td>\n",
              "      <td>Danilo &amp; Larissa</td>\n",
              "      <td>Manhattan</td>\n",
              "      <td>Chelsea</td>\n",
              "      <td>332</td>\n",
              "    </tr>\n",
              "  </tbody>\n",
              "</table>\n",
              "</div>\n",
              "      <button class=\"colab-df-convert\" onclick=\"convertToInteractive('df-6c213a3c-e3b3-465d-b483-6e2ff7c90d10')\"\n",
              "              title=\"Convert this dataframe to an interactive table.\"\n",
              "              style=\"display:none;\">\n",
              "        \n",
              "  <svg xmlns=\"http://www.w3.org/2000/svg\" height=\"24px\"viewBox=\"0 0 24 24\"\n",
              "       width=\"24px\">\n",
              "    <path d=\"M0 0h24v24H0V0z\" fill=\"none\"/>\n",
              "    <path d=\"M18.56 5.44l.94 2.06.94-2.06 2.06-.94-2.06-.94-.94-2.06-.94 2.06-2.06.94zm-11 1L8.5 8.5l.94-2.06 2.06-.94-2.06-.94L8.5 2.5l-.94 2.06-2.06.94zm10 10l.94 2.06.94-2.06 2.06-.94-2.06-.94-.94-2.06-.94 2.06-2.06.94z\"/><path d=\"M17.41 7.96l-1.37-1.37c-.4-.4-.92-.59-1.43-.59-.52 0-1.04.2-1.43.59L10.3 9.45l-7.72 7.72c-.78.78-.78 2.05 0 2.83L4 21.41c.39.39.9.59 1.41.59.51 0 1.02-.2 1.41-.59l7.78-7.78 2.81-2.81c.8-.78.8-2.07 0-2.86zM5.41 20L4 18.59l7.72-7.72 1.47 1.35L5.41 20z\"/>\n",
              "  </svg>\n",
              "      </button>\n",
              "      \n",
              "  <style>\n",
              "    .colab-df-container {\n",
              "      display:flex;\n",
              "      flex-wrap:wrap;\n",
              "      gap: 12px;\n",
              "    }\n",
              "\n",
              "    .colab-df-convert {\n",
              "      background-color: #E8F0FE;\n",
              "      border: none;\n",
              "      border-radius: 50%;\n",
              "      cursor: pointer;\n",
              "      display: none;\n",
              "      fill: #1967D2;\n",
              "      height: 32px;\n",
              "      padding: 0 0 0 0;\n",
              "      width: 32px;\n",
              "    }\n",
              "\n",
              "    .colab-df-convert:hover {\n",
              "      background-color: #E2EBFA;\n",
              "      box-shadow: 0px 1px 2px rgba(60, 64, 67, 0.3), 0px 1px 3px 1px rgba(60, 64, 67, 0.15);\n",
              "      fill: #174EA6;\n",
              "    }\n",
              "\n",
              "    [theme=dark] .colab-df-convert {\n",
              "      background-color: #3B4455;\n",
              "      fill: #D2E3FC;\n",
              "    }\n",
              "\n",
              "    [theme=dark] .colab-df-convert:hover {\n",
              "      background-color: #434B5C;\n",
              "      box-shadow: 0px 1px 3px 1px rgba(0, 0, 0, 0.15);\n",
              "      filter: drop-shadow(0px 1px 2px rgba(0, 0, 0, 0.3));\n",
              "      fill: #FFFFFF;\n",
              "    }\n",
              "  </style>\n",
              "\n",
              "      <script>\n",
              "        const buttonEl =\n",
              "          document.querySelector('#df-6c213a3c-e3b3-465d-b483-6e2ff7c90d10 button.colab-df-convert');\n",
              "        buttonEl.style.display =\n",
              "          google.colab.kernel.accessAllowed ? 'block' : 'none';\n",
              "\n",
              "        async function convertToInteractive(key) {\n",
              "          const element = document.querySelector('#df-6c213a3c-e3b3-465d-b483-6e2ff7c90d10');\n",
              "          const dataTable =\n",
              "            await google.colab.kernel.invokeFunction('convertToInteractive',\n",
              "                                                     [key], {});\n",
              "          if (!dataTable) return;\n",
              "\n",
              "          const docLinkHtml = 'Like what you see? Visit the ' +\n",
              "            '<a target=\"_blank\" href=https://colab.research.google.com/notebooks/data_table.ipynb>data table notebook</a>'\n",
              "            + ' to learn more about interactive tables.';\n",
              "          element.innerHTML = '';\n",
              "          dataTable['output_type'] = 'display_data';\n",
              "          await google.colab.output.renderOutput(dataTable, element);\n",
              "          const docLink = document.createElement('div');\n",
              "          docLink.innerHTML = docLinkHtml;\n",
              "          element.appendChild(docLink);\n",
              "        }\n",
              "      </script>\n",
              "    </div>\n",
              "  </div>\n",
              "  "
            ],
            "text/plain": [
              "                                                    name  ...  price\n",
              "15150                Midtown Sleep 6 Central Convenience  ...    333\n",
              "38565              Parisian Palace in Heart of Manhattan  ...    333\n",
              "28062  27 FLR VIEWS!LINCOLN SQR-LUXURY 2BR MIDTOWN W ...  ...    333\n",
              "25161  Flatiron Loft 3BR/1.5 Bath Best Location\\n30 days  ...    333\n",
              "48567   Your Private Duplex Mansion in the HEART of NYC!  ...    333\n",
              "19641  SOMMwhere in NYC/ a unique, conscious artists ...  ...    333\n",
              "45303                  Five-star luxury Apt in Chelsea !  ...    333\n",
              "13798                       Mid-Century Museum Sleepover  ...    333\n",
              "32976     Luxurious 2bed/2.5bath with Central Park Views  ...    333\n",
              "46439                      CHELSEA CENTRAL LUXURY 2BATHS  ...    332\n",
              "\n",
              "[10 rows x 6 columns]"
            ]
          },
          "metadata": {},
          "execution_count": 48
        }
      ],
      "source": [
        "# Most expensive listings\n",
        "df_subset.sort_values('price',ascending = False)[['name','host_id','host_name','neighbourhood_group','neighbourhood','price']].head(10)"
      ]
    },
    {
      "cell_type": "markdown",
      "metadata": {
        "id": "Z1bLrwtv6CJp"
      },
      "source": [
        "Majority of most expensive listings are from **Manhattan**, in the Neighbourhood of **Midtown,Chelsea,Upper West Side, West Village,Lower East Side**\n",
        "\n",
        "**Mid-Century Museum Sleepover** from Williamburg is the only listing from **Brooklyn** that comes under most expensive Listing."
      ]
    },
    {
      "cell_type": "code",
      "execution_count": null,
      "metadata": {
        "id": "VwxUE18o5VYk",
        "colab": {
          "base_uri": "https://localhost:8080/",
          "height": 394
        },
        "outputId": "4ac7f3b5-9726-4a5b-d954-c4ebfbff343c"
      },
      "outputs": [
        {
          "output_type": "execute_result",
          "data": {
            "text/html": [
              "\n",
              "  <div id=\"df-500ac60e-8357-4f23-922b-05cd0c835b20\">\n",
              "    <div class=\"colab-df-container\">\n",
              "      <div>\n",
              "<style scoped>\n",
              "    .dataframe tbody tr th:only-of-type {\n",
              "        vertical-align: middle;\n",
              "    }\n",
              "\n",
              "    .dataframe tbody tr th {\n",
              "        vertical-align: top;\n",
              "    }\n",
              "\n",
              "    .dataframe thead th {\n",
              "        text-align: right;\n",
              "    }\n",
              "</style>\n",
              "<table border=\"1\" class=\"dataframe\">\n",
              "  <thead>\n",
              "    <tr style=\"text-align: right;\">\n",
              "      <th></th>\n",
              "      <th>name</th>\n",
              "      <th>host_id</th>\n",
              "      <th>neighbourhood_group</th>\n",
              "      <th>neighbourhood</th>\n",
              "      <th>price</th>\n",
              "    </tr>\n",
              "  </thead>\n",
              "  <tbody>\n",
              "    <tr>\n",
              "      <th>26841</th>\n",
              "      <td>Coliving in Brooklyn! Modern design / Shared room</td>\n",
              "      <td>101970559</td>\n",
              "      <td>Brooklyn</td>\n",
              "      <td>Bushwick</td>\n",
              "      <td>0</td>\n",
              "    </tr>\n",
              "    <tr>\n",
              "      <th>25433</th>\n",
              "      <td>★Hostel Style Room | Ideal Traveling Buddies★</td>\n",
              "      <td>131697576</td>\n",
              "      <td>Bronx</td>\n",
              "      <td>East Morrisania</td>\n",
              "      <td>0</td>\n",
              "    </tr>\n",
              "    <tr>\n",
              "      <th>25634</th>\n",
              "      <td>MARTIAL LOFT 3: REDEMPTION (upstairs, 2nd room)</td>\n",
              "      <td>15787004</td>\n",
              "      <td>Brooklyn</td>\n",
              "      <td>Bushwick</td>\n",
              "      <td>0</td>\n",
              "    </tr>\n",
              "    <tr>\n",
              "      <th>25753</th>\n",
              "      <td>Sunny, Quiet Room in Greenpoint</td>\n",
              "      <td>1641537</td>\n",
              "      <td>Brooklyn</td>\n",
              "      <td>Greenpoint</td>\n",
              "      <td>0</td>\n",
              "    </tr>\n",
              "    <tr>\n",
              "      <th>25778</th>\n",
              "      <td>Modern apartment in the heart of Williamsburg</td>\n",
              "      <td>10132166</td>\n",
              "      <td>Brooklyn</td>\n",
              "      <td>Williamsburg</td>\n",
              "      <td>0</td>\n",
              "    </tr>\n",
              "    <tr>\n",
              "      <th>25794</th>\n",
              "      <td>Spacious comfortable master bedroom with nice ...</td>\n",
              "      <td>86327101</td>\n",
              "      <td>Brooklyn</td>\n",
              "      <td>Bedford-Stuyvesant</td>\n",
              "      <td>0</td>\n",
              "    </tr>\n",
              "    <tr>\n",
              "      <th>25795</th>\n",
              "      <td>Contemporary bedroom in brownstone with nice view</td>\n",
              "      <td>86327101</td>\n",
              "      <td>Brooklyn</td>\n",
              "      <td>Bedford-Stuyvesant</td>\n",
              "      <td>0</td>\n",
              "    </tr>\n",
              "    <tr>\n",
              "      <th>25796</th>\n",
              "      <td>Cozy yet spacious private brownstone bedroom</td>\n",
              "      <td>86327101</td>\n",
              "      <td>Brooklyn</td>\n",
              "      <td>Bedford-Stuyvesant</td>\n",
              "      <td>0</td>\n",
              "    </tr>\n",
              "    <tr>\n",
              "      <th>26866</th>\n",
              "      <td>Best Coliving space ever! Shared room.</td>\n",
              "      <td>101970559</td>\n",
              "      <td>Brooklyn</td>\n",
              "      <td>Bushwick</td>\n",
              "      <td>0</td>\n",
              "    </tr>\n",
              "    <tr>\n",
              "      <th>26259</th>\n",
              "      <td>the best you can find</td>\n",
              "      <td>13709292</td>\n",
              "      <td>Manhattan</td>\n",
              "      <td>Murray Hill</td>\n",
              "      <td>0</td>\n",
              "    </tr>\n",
              "    <tr>\n",
              "      <th>23161</th>\n",
              "      <td>Huge Brooklyn Brownstone Living, Close to it all.</td>\n",
              "      <td>8993084</td>\n",
              "      <td>Brooklyn</td>\n",
              "      <td>Bedford-Stuyvesant</td>\n",
              "      <td>0</td>\n",
              "    </tr>\n",
              "  </tbody>\n",
              "</table>\n",
              "</div>\n",
              "      <button class=\"colab-df-convert\" onclick=\"convertToInteractive('df-500ac60e-8357-4f23-922b-05cd0c835b20')\"\n",
              "              title=\"Convert this dataframe to an interactive table.\"\n",
              "              style=\"display:none;\">\n",
              "        \n",
              "  <svg xmlns=\"http://www.w3.org/2000/svg\" height=\"24px\"viewBox=\"0 0 24 24\"\n",
              "       width=\"24px\">\n",
              "    <path d=\"M0 0h24v24H0V0z\" fill=\"none\"/>\n",
              "    <path d=\"M18.56 5.44l.94 2.06.94-2.06 2.06-.94-2.06-.94-.94-2.06-.94 2.06-2.06.94zm-11 1L8.5 8.5l.94-2.06 2.06-.94-2.06-.94L8.5 2.5l-.94 2.06-2.06.94zm10 10l.94 2.06.94-2.06 2.06-.94-2.06-.94-.94-2.06-.94 2.06-2.06.94z\"/><path d=\"M17.41 7.96l-1.37-1.37c-.4-.4-.92-.59-1.43-.59-.52 0-1.04.2-1.43.59L10.3 9.45l-7.72 7.72c-.78.78-.78 2.05 0 2.83L4 21.41c.39.39.9.59 1.41.59.51 0 1.02-.2 1.41-.59l7.78-7.78 2.81-2.81c.8-.78.8-2.07 0-2.86zM5.41 20L4 18.59l7.72-7.72 1.47 1.35L5.41 20z\"/>\n",
              "  </svg>\n",
              "      </button>\n",
              "      \n",
              "  <style>\n",
              "    .colab-df-container {\n",
              "      display:flex;\n",
              "      flex-wrap:wrap;\n",
              "      gap: 12px;\n",
              "    }\n",
              "\n",
              "    .colab-df-convert {\n",
              "      background-color: #E8F0FE;\n",
              "      border: none;\n",
              "      border-radius: 50%;\n",
              "      cursor: pointer;\n",
              "      display: none;\n",
              "      fill: #1967D2;\n",
              "      height: 32px;\n",
              "      padding: 0 0 0 0;\n",
              "      width: 32px;\n",
              "    }\n",
              "\n",
              "    .colab-df-convert:hover {\n",
              "      background-color: #E2EBFA;\n",
              "      box-shadow: 0px 1px 2px rgba(60, 64, 67, 0.3), 0px 1px 3px 1px rgba(60, 64, 67, 0.15);\n",
              "      fill: #174EA6;\n",
              "    }\n",
              "\n",
              "    [theme=dark] .colab-df-convert {\n",
              "      background-color: #3B4455;\n",
              "      fill: #D2E3FC;\n",
              "    }\n",
              "\n",
              "    [theme=dark] .colab-df-convert:hover {\n",
              "      background-color: #434B5C;\n",
              "      box-shadow: 0px 1px 3px 1px rgba(0, 0, 0, 0.15);\n",
              "      filter: drop-shadow(0px 1px 2px rgba(0, 0, 0, 0.3));\n",
              "      fill: #FFFFFF;\n",
              "    }\n",
              "  </style>\n",
              "\n",
              "      <script>\n",
              "        const buttonEl =\n",
              "          document.querySelector('#df-500ac60e-8357-4f23-922b-05cd0c835b20 button.colab-df-convert');\n",
              "        buttonEl.style.display =\n",
              "          google.colab.kernel.accessAllowed ? 'block' : 'none';\n",
              "\n",
              "        async function convertToInteractive(key) {\n",
              "          const element = document.querySelector('#df-500ac60e-8357-4f23-922b-05cd0c835b20');\n",
              "          const dataTable =\n",
              "            await google.colab.kernel.invokeFunction('convertToInteractive',\n",
              "                                                     [key], {});\n",
              "          if (!dataTable) return;\n",
              "\n",
              "          const docLinkHtml = 'Like what you see? Visit the ' +\n",
              "            '<a target=\"_blank\" href=https://colab.research.google.com/notebooks/data_table.ipynb>data table notebook</a>'\n",
              "            + ' to learn more about interactive tables.';\n",
              "          element.innerHTML = '';\n",
              "          dataTable['output_type'] = 'display_data';\n",
              "          await google.colab.output.renderOutput(dataTable, element);\n",
              "          const docLink = document.createElement('div');\n",
              "          docLink.innerHTML = docLinkHtml;\n",
              "          element.appendChild(docLink);\n",
              "        }\n",
              "      </script>\n",
              "    </div>\n",
              "  </div>\n",
              "  "
            ],
            "text/plain": [
              "                                                    name  ...  price\n",
              "26841  Coliving in Brooklyn! Modern design / Shared room  ...      0\n",
              "25433      ★Hostel Style Room | Ideal Traveling Buddies★  ...      0\n",
              "25634    MARTIAL LOFT 3: REDEMPTION (upstairs, 2nd room)  ...      0\n",
              "25753                    Sunny, Quiet Room in Greenpoint  ...      0\n",
              "25778      Modern apartment in the heart of Williamsburg  ...      0\n",
              "25794  Spacious comfortable master bedroom with nice ...  ...      0\n",
              "25795  Contemporary bedroom in brownstone with nice view  ...      0\n",
              "25796       Cozy yet spacious private brownstone bedroom  ...      0\n",
              "26866             Best Coliving space ever! Shared room.  ...      0\n",
              "26259                              the best you can find  ...      0\n",
              "23161  Huge Brooklyn Brownstone Living, Close to it all.  ...      0\n",
              "\n",
              "[11 rows x 5 columns]"
            ]
          },
          "metadata": {},
          "execution_count": 49
        }
      ],
      "source": [
        "df_subset.sort_values('price',ascending = True)[['name','host_id','neighbourhood_group','neighbourhood','price']].head(11)  # Cheapest Listings"
      ]
    },
    {
      "cell_type": "markdown",
      "metadata": {
        "id": "gu7xBLz16kju"
      },
      "source": [
        "Majority of  cheapest listings are from **Brooklyn**, in the Neighbourhood of **Bushwick,Greenpoint,Williamsburg, Bedford_Stuyvesant**\n",
        "\n",
        "**★Hostel Style Room | Ideal Traveling Buddies★** from neigbourhood of **East Morrisania** is the onlly cheapest listing from **Bornx** \n",
        "\n",
        "**the best you can find** is the only cheapest Listing from **Manhattan**\n",
        "\n"
      ]
    },
    {
      "cell_type": "markdown",
      "metadata": {
        "id": "bUaNlsSP7AKx"
      },
      "source": [
        "**MOST EXPENSIVE HOSTS**"
      ]
    },
    {
      "cell_type": "code",
      "source": [
        "df_subset['avg_price_of_night']=  df_subset['price'].div(df_subset['minimum_nights'].values)"
      ],
      "metadata": {
        "colab": {
          "base_uri": "https://localhost:8080/"
        },
        "id": "RxbyxXIz7U6i",
        "outputId": "3bde0eb1-8059-44a0-ca3a-9e906aaadcda"
      },
      "execution_count": null,
      "outputs": [
        {
          "output_type": "stream",
          "name": "stderr",
          "text": [
            "/usr/local/lib/python3.7/dist-packages/ipykernel_launcher.py:1: SettingWithCopyWarning: \n",
            "A value is trying to be set on a copy of a slice from a DataFrame.\n",
            "Try using .loc[row_indexer,col_indexer] = value instead\n",
            "\n",
            "See the caveats in the documentation: https://pandas.pydata.org/pandas-docs/stable/user_guide/indexing.html#returning-a-view-versus-a-copy\n",
            "  \"\"\"Entry point for launching an IPython kernel.\n"
          ]
        }
      ]
    },
    {
      "cell_type": "code",
      "source": [
        "df_subset.groupby(['neighbourhood_group','room_type']).avg_price_of_night.mean().reset_index()\n",
        "sns.barplot(data = df_subset.groupby(['neighbourhood_group','room_type']).avg_price_of_night.mean().reset_index(),x = 'neighbourhood_group',y = 'avg_price_of_night',hue = 'room_type')\n",
        "plt.legend(loc=\"upper right\", frameon=False, fontsize= 8)\n",
        "plt.ylim(0,100)\n",
        "plt.xlabel('')\n",
        "plt.ylabel('')\n",
        "plt.title('One Night Charges across NYC', size = 12,color ='#4f4e4e')"
      ],
      "metadata": {
        "colab": {
          "base_uri": "https://localhost:8080/",
          "height": 404
        },
        "id": "Uj6-JdXm713W",
        "outputId": "fb4fbbae-a72b-44dc-8b5f-0c7fce450414"
      },
      "execution_count": null,
      "outputs": [
        {
          "output_type": "execute_result",
          "data": {
            "text/plain": [
              "Text(0.5, 1.0, 'One Night Charges across NYC')"
            ]
          },
          "metadata": {},
          "execution_count": 52
        },
        {
          "output_type": "display_data",
          "data": {
            "image/png": "[encoded data removed]",
            "text/plain": [
              "<Figure size 600x400 with 1 Axes>"
            ]
          },
          "metadata": {}
        }
      ]
    },
    {
      "cell_type": "code",
      "execution_count": null,
      "metadata": {
        "id": "9gge2X7A7L1s"
      },
      "outputs": [],
      "source": [
        "Expensive_host = df_subset.sort_values(by = 'avg_price_of_night',ascending = False)[['host_id','avg_price_of_night']]"
      ]
    },
    {
      "cell_type": "code",
      "execution_count": null,
      "metadata": {
        "id": "45-EyyKJAEGp",
        "colab": {
          "base_uri": "https://localhost:8080/",
          "height": 363
        },
        "outputId": "db0392cf-acd3-423c-be17-fb214c9c0a3b"
      },
      "outputs": [
        {
          "output_type": "execute_result",
          "data": {
            "text/html": [
              "\n",
              "  <div id=\"df-c16733fe-be01-4688-9954-9255f15fae45\">\n",
              "    <div class=\"colab-df-container\">\n",
              "      <div>\n",
              "<style scoped>\n",
              "    .dataframe tbody tr th:only-of-type {\n",
              "        vertical-align: middle;\n",
              "    }\n",
              "\n",
              "    .dataframe tbody tr th {\n",
              "        vertical-align: top;\n",
              "    }\n",
              "\n",
              "    .dataframe thead th {\n",
              "        text-align: right;\n",
              "    }\n",
              "</style>\n",
              "<table border=\"1\" class=\"dataframe\">\n",
              "  <thead>\n",
              "    <tr style=\"text-align: right;\">\n",
              "      <th></th>\n",
              "      <th>host_id</th>\n",
              "      <th>avg_price_of_night</th>\n",
              "    </tr>\n",
              "  </thead>\n",
              "  <tbody>\n",
              "    <tr>\n",
              "      <th>19641</th>\n",
              "      <td>148108</td>\n",
              "      <td>333.0</td>\n",
              "    </tr>\n",
              "    <tr>\n",
              "      <th>15150</th>\n",
              "      <td>62031986</td>\n",
              "      <td>333.0</td>\n",
              "    </tr>\n",
              "    <tr>\n",
              "      <th>45303</th>\n",
              "      <td>152747338</td>\n",
              "      <td>333.0</td>\n",
              "    </tr>\n",
              "    <tr>\n",
              "      <th>46439</th>\n",
              "      <td>184520918</td>\n",
              "      <td>332.0</td>\n",
              "    </tr>\n",
              "    <tr>\n",
              "      <th>36121</th>\n",
              "      <td>173685298</td>\n",
              "      <td>330.0</td>\n",
              "    </tr>\n",
              "    <tr>\n",
              "      <th>33529</th>\n",
              "      <td>199147185</td>\n",
              "      <td>330.0</td>\n",
              "    </tr>\n",
              "    <tr>\n",
              "      <th>33700</th>\n",
              "      <td>199147185</td>\n",
              "      <td>330.0</td>\n",
              "    </tr>\n",
              "    <tr>\n",
              "      <th>48461</th>\n",
              "      <td>271624892</td>\n",
              "      <td>330.0</td>\n",
              "    </tr>\n",
              "    <tr>\n",
              "      <th>46428</th>\n",
              "      <td>265271198</td>\n",
              "      <td>330.0</td>\n",
              "    </tr>\n",
              "    <tr>\n",
              "      <th>37078</th>\n",
              "      <td>173685298</td>\n",
              "      <td>329.0</td>\n",
              "    </tr>\n",
              "  </tbody>\n",
              "</table>\n",
              "</div>\n",
              "      <button class=\"colab-df-convert\" onclick=\"convertToInteractive('df-c16733fe-be01-4688-9954-9255f15fae45')\"\n",
              "              title=\"Convert this dataframe to an interactive table.\"\n",
              "              style=\"display:none;\">\n",
              "        \n",
              "  <svg xmlns=\"http://www.w3.org/2000/svg\" height=\"24px\"viewBox=\"0 0 24 24\"\n",
              "       width=\"24px\">\n",
              "    <path d=\"M0 0h24v24H0V0z\" fill=\"none\"/>\n",
              "    <path d=\"M18.56 5.44l.94 2.06.94-2.06 2.06-.94-2.06-.94-.94-2.06-.94 2.06-2.06.94zm-11 1L8.5 8.5l.94-2.06 2.06-.94-2.06-.94L8.5 2.5l-.94 2.06-2.06.94zm10 10l.94 2.06.94-2.06 2.06-.94-2.06-.94-.94-2.06-.94 2.06-2.06.94z\"/><path d=\"M17.41 7.96l-1.37-1.37c-.4-.4-.92-.59-1.43-.59-.52 0-1.04.2-1.43.59L10.3 9.45l-7.72 7.72c-.78.78-.78 2.05 0 2.83L4 21.41c.39.39.9.59 1.41.59.51 0 1.02-.2 1.41-.59l7.78-7.78 2.81-2.81c.8-.78.8-2.07 0-2.86zM5.41 20L4 18.59l7.72-7.72 1.47 1.35L5.41 20z\"/>\n",
              "  </svg>\n",
              "      </button>\n",
              "      \n",
              "  <style>\n",
              "    .colab-df-container {\n",
              "      display:flex;\n",
              "      flex-wrap:wrap;\n",
              "      gap: 12px;\n",
              "    }\n",
              "\n",
              "    .colab-df-convert {\n",
              "      background-color: #E8F0FE;\n",
              "      border: none;\n",
              "      border-radius: 50%;\n",
              "      cursor: pointer;\n",
              "      display: none;\n",
              "      fill: #1967D2;\n",
              "      height: 32px;\n",
              "      padding: 0 0 0 0;\n",
              "      width: 32px;\n",
              "    }\n",
              "\n",
              "    .colab-df-convert:hover {\n",
              "      background-color: #E2EBFA;\n",
              "      box-shadow: 0px 1px 2px rgba(60, 64, 67, 0.3), 0px 1px 3px 1px rgba(60, 64, 67, 0.15);\n",
              "      fill: #174EA6;\n",
              "    }\n",
              "\n",
              "    [theme=dark] .colab-df-convert {\n",
              "      background-color: #3B4455;\n",
              "      fill: #D2E3FC;\n",
              "    }\n",
              "\n",
              "    [theme=dark] .colab-df-convert:hover {\n",
              "      background-color: #434B5C;\n",
              "      box-shadow: 0px 1px 3px 1px rgba(0, 0, 0, 0.15);\n",
              "      filter: drop-shadow(0px 1px 2px rgba(0, 0, 0, 0.3));\n",
              "      fill: #FFFFFF;\n",
              "    }\n",
              "  </style>\n",
              "\n",
              "      <script>\n",
              "        const buttonEl =\n",
              "          document.querySelector('#df-c16733fe-be01-4688-9954-9255f15fae45 button.colab-df-convert');\n",
              "        buttonEl.style.display =\n",
              "          google.colab.kernel.accessAllowed ? 'block' : 'none';\n",
              "\n",
              "        async function convertToInteractive(key) {\n",
              "          const element = document.querySelector('#df-c16733fe-be01-4688-9954-9255f15fae45');\n",
              "          const dataTable =\n",
              "            await google.colab.kernel.invokeFunction('convertToInteractive',\n",
              "                                                     [key], {});\n",
              "          if (!dataTable) return;\n",
              "\n",
              "          const docLinkHtml = 'Like what you see? Visit the ' +\n",
              "            '<a target=\"_blank\" href=https://colab.research.google.com/notebooks/data_table.ipynb>data table notebook</a>'\n",
              "            + ' to learn more about interactive tables.';\n",
              "          element.innerHTML = '';\n",
              "          dataTable['output_type'] = 'display_data';\n",
              "          await google.colab.output.renderOutput(dataTable, element);\n",
              "          const docLink = document.createElement('div');\n",
              "          docLink.innerHTML = docLinkHtml;\n",
              "          element.appendChild(docLink);\n",
              "        }\n",
              "      </script>\n",
              "    </div>\n",
              "  </div>\n",
              "  "
            ],
            "text/plain": [
              "         host_id  avg_price_of_night\n",
              "19641     148108               333.0\n",
              "15150   62031986               333.0\n",
              "45303  152747338               333.0\n",
              "46439  184520918               332.0\n",
              "36121  173685298               330.0\n",
              "33529  199147185               330.0\n",
              "33700  199147185               330.0\n",
              "48461  271624892               330.0\n",
              "46428  265271198               330.0\n",
              "37078  173685298               329.0"
            ]
          },
          "metadata": {},
          "execution_count": 54
        }
      ],
      "source": [
        "Expensive_host.head(10)"
      ]
    },
    {
      "cell_type": "markdown",
      "metadata": {
        "id": "4LbXpt8wCtMb"
      },
      "source": [
        "**Per night average charges for the Top 3 hosts is aroung 333 USD**"
      ]
    },
    {
      "cell_type": "markdown",
      "source": [
        "#**Visualizing Price against number of Reviews**"
      ],
      "metadata": {
        "id": "4VXdyxI_suFu"
      }
    },
    {
      "cell_type": "code",
      "execution_count": null,
      "metadata": {
        "id": "6P8DHBSvHnJS",
        "colab": {
          "base_uri": "https://localhost:8080/",
          "height": 625
        },
        "outputId": "dc4eac28-805f-48aa-9fe5-a0c77a663c24"
      },
      "outputs": [
        {
          "output_type": "execute_result",
          "data": {
            "text/plain": [
              "<seaborn.axisgrid.JointGrid at 0x7f592f5eef50>"
            ]
          },
          "metadata": {},
          "execution_count": 55
        },
        {
          "output_type": "display_data",
          "data": {
            "image/png": "[encoded data removed]",
            "text/plain": [
              "<Figure size 600x600 with 3 Axes>"
            ]
          },
          "metadata": {}
        }
      ],
      "source": [
        "\n",
        "# Analysing the price against reviews pleas\n",
        "sns.jointplot(data = df_subset,x  = 'price',y = 'number_of_reviews',hue = 'room_type',alpha = 0.4)\n"
      ]
    },
    {
      "cell_type": "code",
      "source": [
        ""
      ],
      "metadata": {
        "id": "TI63UmbFDAXc"
      },
      "execution_count": null,
      "outputs": []
    }
  ],
  "metadata": {
    "colab": {
      "collapsed_sections": [
        "vfYx_6O-Qa3m",
        "m87f834RlJEF"
      ],
      "name": "Airbnb.ipynb",
      "provenance": [],
      "authorship_tag": "ABX9TyN2fMt7f199rMW/oCx8d0qP",
      "include_colab_link": true
    },
    "kernelspec": {
      "display_name": "Python 3",
      "name": "python3"
    },
    "language_info": {
      "name": "python"
    }
  },
  "nbformat": 4,
  "nbformat_minor": 0
}